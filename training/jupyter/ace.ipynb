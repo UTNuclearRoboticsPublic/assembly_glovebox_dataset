{
 "cells": [
  {
   "cell_type": "code",
   "execution_count": 21,
   "metadata": {},
   "outputs": [],
   "source": [
    "import torch\n",
    "import numpy as np"
   ]
  },
  {
   "cell_type": "code",
   "execution_count": 42,
   "metadata": {},
   "outputs": [],
   "source": [
    "raw_preds = torch.rand(2, 3, 25, 25)\n",
    "y_true = torch.argmax(torch.rand(2, 3, 25, 25))\n",
    "num_ranges = 15"
   ]
  },
  {
   "cell_type": "code",
   "execution_count": 28,
   "metadata": {},
   "outputs": [],
   "source": [
    "probs = torch.softmax(raw_preds, dim=1)\n",
    "\n",
    "# predictions are argmax predictions\n",
    "# confidences are the probabilities of the respective predictions\n",
    "confidences, y_hat = torch.max(probs, dim=1)\n",
    "\n",
    "classes = raw_preds.shape[1]\n"
   ]
  },
  {
   "cell_type": "code",
   "execution_count": 36,
   "metadata": {},
   "outputs": [
    {
     "data": {
      "text/plain": [
       "1875"
      ]
     },
     "execution_count": 36,
     "metadata": {},
     "output_type": "execute_result"
    }
   ],
   "source": [
    "def get_batch(batch_idx, y_true, y_hat, confidences):\n",
    "    y = y_true[batch_idx, :, :, :]\n",
    "    y_hat = y_hat[batch_idx, :, :, :] \n",
    "    confidence = confidences[batch_idx, :, :, :]\n",
    "\n",
    "    return y, y_hat, confidence"
   ]
  },
  {
   "cell_type": "code",
   "execution_count": 44,
   "metadata": {},
   "outputs": [],
   "source": [
    "def sort_probs(confidence):\n",
    "    flat = torch.flatten(confidence)\n",
    "    sorted_one_hot, indices = torch.sort(flat)\n",
    "\n",
    "    return sorted_one_hot"
   ]
  },
  {
   "cell_type": "code",
   "execution_count": 45,
   "metadata": {},
   "outputs": [],
   "source": [
    "def get_accuracy(class_idx, upper, lower, y, confidence_values, pred_values):\n",
    "    \n",
    "    # FIND PREDICTED VALUES IN THE RANGE\n",
    "    # filter confidence and argmaxed predictions for values in the range of the bin\n",
    "    # also, return the indices where these filtered values are in the matrix\n",
    "    fil_confidence = torch.where(y == class_idx, confidence_values, 0)\n",
    "    fil_pred_values = torch.where((fil_confidence >= lower) & (fil_confidence <= upper), pred_values, torch.tensor([]))\n",
    "    fil_idxs = fil_confidence.where((fil_confidence >= lower) & (fil_confidence <= upper))\n",
    "\n",
    "    # FIND GROUND TRUTH VALUES IN THE RANGE\n",
    "    fil_truth = y[fil_idxs]\n",
    "\n",
    "    # CALCULATE THE ACCURACY FOR THIS RANGE FOR THE GIVEN CLASS\n",
    "    diff = fil_pred_values - fil_truth\n",
    "    num_correct = diff.size() - torch.count_nonzero(diff)\n",
    "    acc = torch.abs(num_correct / fil_truth.size())\n",
    "\n",
    "\n",
    "    return acc"
   ]
  },
  {
   "cell_type": "code",
   "execution_count": 41,
   "metadata": {},
   "outputs": [
    {
     "data": {
      "text/plain": [
       "torch.Size([1250])"
      ]
     },
     "execution_count": 41,
     "metadata": {},
     "output_type": "execute_result"
    }
   ],
   "source": [
    "batch_size = raw_preds.shape[0]\n",
    "# make handling batches happen in a function\n",
    "for batch_idx in range(batch_size):\n",
    "    y, y_hat, confidence = get_batch(batch_idx, y_true, y_hat, confidences)\n",
    "\n",
    "    # number of values for each class\n",
    "    N = y.size[-2] * y.size[-1]\n",
    "\n",
    "    # sum of calibration errors for every range for every class\n",
    "    sum = 0\n",
    "\n",
    "    for class_idx in range(classes):\n",
    "        # find total range of probabilities of class in image and sort\n",
    "        sort = sort_probs(confidence)\n",
    "\n",
    "        # split into ranges\n",
    "        ranges = torch.linspace(0, N, (N/num_ranges))\n",
    "\n",
    "        prev_r = 0\n",
    "        for r in ranges:\n",
    "            upper = r\n",
    "            lower = prev_r\n",
    "\n",
    "            # calculate confidence and accuracy\n",
    "            acc = get_accuracy(class_idx, upper, lower, y, confidence, y_hat)\n",
    "            conf = torch.mean(sort)\n",
    "\n",
    "            # difference for this range\n",
    "            cal_error = torch.abs(acc - conf)\n",
    "            sum+=cal_error\n",
    "            \n",
    "            prev_r = r\n",
    "\n",
    "\n",
    "\n",
    "\n",
    "\n",
    "\n",
    "sorted_one_hot.shape"
   ]
  },
  {
   "cell_type": "code",
   "execution_count": null,
   "metadata": {},
   "outputs": [],
   "source": []
  }
 ],
 "metadata": {
  "kernelspec": {
   "display_name": "test_env",
   "language": "python",
   "name": "python3"
  },
  "language_info": {
   "codemirror_mode": {
    "name": "ipython",
    "version": 3
   },
   "file_extension": ".py",
   "mimetype": "text/x-python",
   "name": "python",
   "nbconvert_exporter": "python",
   "pygments_lexer": "ipython3",
   "version": "3.11.3"
  },
  "orig_nbformat": 4
 },
 "nbformat": 4,
 "nbformat_minor": 2
}
