{
 "cells": [
  {
   "cell_type": "code",
   "execution_count": 21,
   "metadata": {},
   "outputs": [],
   "source": [
    "import torch\n",
    "import numpy as np"
   ]
  },
  {
   "cell_type": "code",
   "execution_count": 42,
   "metadata": {},
   "outputs": [],
   "source": [
    "raw_preds = torch.rand(2, 3, 25, 25)\n",
    "y_true = torch.argmax(torch.rand(2, 3, 25, 25))\n",
    "num_ranges = 15"
   ]
  },
  {
   "cell_type": "code",
   "execution_count": 28,
   "metadata": {},
   "outputs": [],
   "source": [
    "probs = torch.softmax(raw_preds, dim=1)\n",
    "\n",
    "# predictions are argmax predictions\n",
    "# confidences are the probabilities of the respective predictions\n",
    "confidences, y_hat = torch.max(probs, dim=1)\n",
    "\n",
    "classes = raw_preds.shape[1]\n"
   ]
  },
  {
   "cell_type": "code",
   "execution_count": 36,
   "metadata": {},
   "outputs": [
    {
     "data": {
      "text/plain": [
       "1875"
      ]
     },
     "execution_count": 36,
     "metadata": {},
     "output_type": "execute_result"
    }
   ],
   "source": [
    "def get_batch(idx, raw_preds, y_true, y_hat, confidences):\n",
    "    raw_pred = raw_preds[idx, :, :, :]\n",
    "    y = y_true[idx, :, :, :]\n",
    "    y_hat = y_hat[idx, :, :, :] \n",
    "    confidence = confidences[idx, :, :, :]\n",
    "\n",
    "    return raw_pred, y, y_hat, confidence"
   ]
  },
  {
   "cell_type": "code",
   "execution_count": 44,
   "metadata": {},
   "outputs": [],
   "source": [
    "def sort_probs(confidence):\n",
    "    flat = torch.flatten(confidence)\n",
    "    sorted_one_hot, indices = torch.sort(flat)\n",
    "\n",
    "    return sorted_one_hot"
   ]
  },
  {
   "cell_type": "code",
   "execution_count": 41,
   "metadata": {},
   "outputs": [
    {
     "data": {
      "text/plain": [
       "torch.Size([1250])"
      ]
     },
     "execution_count": 41,
     "metadata": {},
     "output_type": "execute_result"
    }
   ],
   "source": [
    "batch_size = raw_preds.shape[0]\n",
    "# make handling batches happen in a function\n",
    "for batch in range(batch_size):\n",
    "\n",
    "    raw_pred, y, y_hat, confidence = get_batch(batch, raw_preds, y_true, y_hat, confidences)\n",
    "\n",
    "    # number of points for each class\n",
    "    N = y.size[-2] * y.size[-1]\n",
    "\n",
    "    for c in range(classes):\n",
    "\n",
    "        # find total range of probabilities of class in image and sort\n",
    "        sort = sort_probs(confidence)\n",
    "\n",
    "        # split into ranges\n",
    "        ranges = torch.linspace(0, N, (N/num_ranges))\n",
    "\n",
    "\n",
    "\n",
    "\n",
    "\n",
    "sorted_one_hot.shape"
   ]
  },
  {
   "cell_type": "code",
   "execution_count": null,
   "metadata": {},
   "outputs": [],
   "source": []
  }
 ],
 "metadata": {
  "kernelspec": {
   "display_name": "test_env",
   "language": "python",
   "name": "python3"
  },
  "language_info": {
   "codemirror_mode": {
    "name": "ipython",
    "version": 3
   },
   "file_extension": ".py",
   "mimetype": "text/x-python",
   "name": "python",
   "nbconvert_exporter": "python",
   "pygments_lexer": "ipython3",
   "version": "3.11.3"
  },
  "orig_nbformat": 4
 },
 "nbformat": 4,
 "nbformat_minor": 2
}
