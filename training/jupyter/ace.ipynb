{
 "cells": [
  {
   "cell_type": "code",
   "execution_count": 95,
   "metadata": {},
   "outputs": [],
   "source": [
    "import torch\n",
    "import numpy as np"
   ]
  },
  {
   "cell_type": "code",
   "execution_count": 96,
   "metadata": {},
   "outputs": [],
   "source": [
    "raw_preds = torch.rand(2, 3, 25, 25)\n",
    "y_true = torch.argmax(torch.rand(2, 3, 25, 25), dim=1)\n",
    "num_ranges = 15"
   ]
  },
  {
   "cell_type": "code",
   "execution_count": 97,
   "metadata": {},
   "outputs": [],
   "source": [
    "probs = torch.softmax(raw_preds, dim=1)\n",
    "\n",
    "# predictions are argmax predictions\n",
    "# confidences are the probabilities of the respective predictions\n",
    "confidences, y_hat = torch.max(probs, dim=1)\n",
    "\n",
    "classes = raw_preds.shape[1]\n"
   ]
  },
  {
   "cell_type": "code",
   "execution_count": 98,
   "metadata": {},
   "outputs": [],
   "source": [
    "def get_batch(batch_idx, y_true, y_hat, confidences):\n",
    "    y = y_true[batch_idx, :, :]\n",
    "    y_hat = y_hat[batch_idx, :, :] \n",
    "    confidence = confidences[batch_idx, :, :]\n",
    "\n",
    "    return y, y_hat, confidence"
   ]
  },
  {
   "cell_type": "code",
   "execution_count": 99,
   "metadata": {},
   "outputs": [],
   "source": [
    "def sort_probs(confidence):\n",
    "    flat = torch.flatten(confidence)\n",
    "    sorted_one_hot, indices = torch.sort(flat)\n",
    "\n",
    "    return sorted_one_hot"
   ]
  },
  {
   "cell_type": "code",
   "execution_count": 100,
   "metadata": {},
   "outputs": [],
   "source": [
    "def get_accuracy(class_idx, upper, lower, y, confidence_values, pred_values):\n",
    "    \n",
    "    # FIND PREDICTED VALUES IN THE RANGE\n",
    "    # filter confidence and argmaxed predictions for values in the range of the bin\n",
    "    # also, return the indices where these filtered values are in the matrix\n",
    "    fil_confidence = torch.where(y == class_idx, confidence_values, 0)\n",
    "    fil_pred_values = torch.where((fil_confidence >= lower) & (fil_confidence <= upper), pred_values, torch.tensor([]))\n",
    "    fil_idxs = fil_confidence.where((fil_confidence >= lower) & (fil_confidence <= upper))\n",
    "\n",
    "    # FIND GROUND TRUTH VALUES IN THE RANGE\n",
    "    fil_truth = y[fil_idxs]\n",
    "\n",
    "    # CALCULATE THE ACCURACY FOR THIS RANGE FOR THE GIVEN CLASS\n",
    "    diff = fil_pred_values - fil_truth\n",
    "    num_correct = diff.size() - torch.count_nonzero(diff)\n",
    "    acc = torch.abs(num_correct / fil_truth.size())\n",
    "\n",
    "\n",
    "    return acc"
   ]
  },
  {
   "cell_type": "code",
   "execution_count": 101,
   "metadata": {},
   "outputs": [
    {
     "ename": "RuntimeError",
     "evalue": "The size of tensor a (25) must match the size of tensor b (0) at non-singleton dimension 1",
     "output_type": "error",
     "traceback": [
      "\u001b[1;31m---------------------------------------------------------------------------\u001b[0m",
      "\u001b[1;31mRuntimeError\u001b[0m                              Traceback (most recent call last)",
      "Cell \u001b[1;32mIn[101], line 25\u001b[0m\n\u001b[0;32m     22\u001b[0m lower \u001b[39m=\u001b[39m prev_r\n\u001b[0;32m     24\u001b[0m \u001b[39m# calculate confidence and accuracy\u001b[39;00m\n\u001b[1;32m---> 25\u001b[0m acc \u001b[39m=\u001b[39m get_accuracy(class_idx, upper, lower, y, confidence, y_hat)\n\u001b[0;32m     26\u001b[0m conf \u001b[39m=\u001b[39m torch\u001b[39m.\u001b[39mmean(sort)\n\u001b[0;32m     28\u001b[0m \u001b[39m# difference for this range\u001b[39;00m\n",
      "Cell \u001b[1;32mIn[100], line 7\u001b[0m, in \u001b[0;36mget_accuracy\u001b[1;34m(class_idx, upper, lower, y, confidence_values, pred_values)\u001b[0m\n\u001b[0;32m      1\u001b[0m \u001b[39mdef\u001b[39;00m \u001b[39mget_accuracy\u001b[39m(class_idx, upper, lower, y, confidence_values, pred_values):\n\u001b[0;32m      2\u001b[0m     \n\u001b[0;32m      3\u001b[0m     \u001b[39m# FIND PREDICTED VALUES IN THE RANGE\u001b[39;00m\n\u001b[0;32m      4\u001b[0m     \u001b[39m# filter confidence and argmaxed predictions for values in the range of the bin\u001b[39;00m\n\u001b[0;32m      5\u001b[0m     \u001b[39m# also, return the indices where these filtered values are in the matrix\u001b[39;00m\n\u001b[0;32m      6\u001b[0m     fil_confidence \u001b[39m=\u001b[39m torch\u001b[39m.\u001b[39mwhere(y \u001b[39m==\u001b[39m class_idx, confidence_values, \u001b[39m0\u001b[39m)\n\u001b[1;32m----> 7\u001b[0m     fil_pred_values \u001b[39m=\u001b[39m torch\u001b[39m.\u001b[39;49mwhere((fil_confidence \u001b[39m>\u001b[39;49m\u001b[39m=\u001b[39;49m lower) \u001b[39m&\u001b[39;49m (fil_confidence \u001b[39m<\u001b[39;49m\u001b[39m=\u001b[39;49m upper), pred_values, torch\u001b[39m.\u001b[39;49mtensor([]))\n\u001b[0;32m      8\u001b[0m     fil_idxs \u001b[39m=\u001b[39m fil_confidence\u001b[39m.\u001b[39mwhere((fil_confidence \u001b[39m>\u001b[39m\u001b[39m=\u001b[39m lower) \u001b[39m&\u001b[39m (fil_confidence \u001b[39m<\u001b[39m\u001b[39m=\u001b[39m upper))\n\u001b[0;32m     10\u001b[0m     \u001b[39m# FIND GROUND TRUTH VALUES IN THE RANGE\u001b[39;00m\n",
      "\u001b[1;31mRuntimeError\u001b[0m: The size of tensor a (25) must match the size of tensor b (0) at non-singleton dimension 1"
     ]
    }
   ],
   "source": [
    "batch_size = raw_preds.shape[0]\n",
    "# make handling batches happen in a function\n",
    "for batch_idx in range(batch_size):\n",
    "    y, y_hat, confidence = get_batch(batch_idx, y_true, y_hat, confidences)\n",
    "\n",
    "    # number of values for each class\n",
    "    num_vals = y.shape[-2] * y.shape[-1]\n",
    "\n",
    "    # sum of calibration errors for every range for every class\n",
    "    sum = 0\n",
    "\n",
    "    for class_idx in range(classes):\n",
    "        # find total range of probabilities of class in image and sort\n",
    "        sort = sort_probs(confidence)\n",
    "\n",
    "        # split into ranges\n",
    "        ranges = torch.linspace(0, num_vals, (int)(num_vals/num_ranges))\n",
    "\n",
    "        prev_r = 0\n",
    "        for r in ranges:\n",
    "            upper = r\n",
    "            lower = prev_r\n",
    "\n",
    "            # calculate confidence and accuracy\n",
    "            acc = get_accuracy(class_idx, upper, lower, y, confidence, y_hat)\n",
    "            conf = torch.mean(sort)\n",
    "\n",
    "            # difference for this range\n",
    "            cal_error = torch.abs(acc - conf)\n",
    "            sum+=cal_error\n",
    "            \n",
    "            prev_r = r"
   ]
  },
  {
   "cell_type": "code",
   "execution_count": null,
   "metadata": {},
   "outputs": [
    {
     "data": {
      "text/plain": [
       "41.666666666666664"
      ]
     },
     "execution_count": 94,
     "metadata": {},
     "output_type": "execute_result"
    }
   ],
   "source": []
  },
  {
   "cell_type": "code",
   "execution_count": null,
   "metadata": {},
   "outputs": [],
   "source": []
  }
 ],
 "metadata": {
  "kernelspec": {
   "display_name": "test_env",
   "language": "python",
   "name": "python3"
  },
  "language_info": {
   "codemirror_mode": {
    "name": "ipython",
    "version": 3
   },
   "file_extension": ".py",
   "mimetype": "text/x-python",
   "name": "python",
   "nbconvert_exporter": "python",
   "pygments_lexer": "ipython3",
   "version": "3.11.3"
  },
  "orig_nbformat": 4
 },
 "nbformat": 4,
 "nbformat_minor": 2
}
