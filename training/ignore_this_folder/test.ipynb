{
 "cells": [
  {
   "cell_type": "code",
   "execution_count": 1,
   "metadata": {},
   "outputs": [],
   "source": [
    "import os"
   ]
  },
  {
   "cell_type": "code",
   "execution_count": 2,
   "metadata": {},
   "outputs": [],
   "source": [
    "fit_query = ['Test_Subject_1', 'id', 'J, TB', 'Side_View, Top_View']\n",
    "test_query = ['Test_Subject_1', 'ood', 'TB', 'Side_View']"
   ]
  },
  {
   "cell_type": "code",
   "execution_count": 21,
   "metadata": {},
   "outputs": [
    {
     "name": "stdout",
     "output_type": "stream",
     "text": [
      "['.\\\\data\\\\Labels\\\\Test_Subject_1\\\\id\\\\J\\\\Side_View', '.\\\\data\\\\Labels\\\\Test_Subject_1\\\\id\\\\J\\\\Top_View', '.\\\\data\\\\Labels\\\\Test_Subject_1\\\\id\\\\TB\\\\Side_View', '.\\\\data\\\\Labels\\\\Test_Subject_1\\\\id\\\\TB\\\\Top_View']\n"
     ]
    }
   ],
   "source": [
    "# appending all paths in the fit query first\n",
    "fit_files = []\n",
    "for participant in fit_query[0].split(\", \"):\n",
    "    for dist in fit_query[1].split(\", \"):\n",
    "        for task in fit_query[2].split(\", \"):\n",
    "            for view in fit_query[3].split(\", \"):\n",
    "                path = os.path.join('.', 'data', 'Labels', participant, dist, task, view)\n",
    "                fit_files.append(path)\n",
    "\n",
    "# appending all paths in the test_query\n",
    "test_files = []\n",
    "for participant in test_query[0].split(\", \"):\n",
    "    for dist in test_query[1].split(\", \"):\n",
    "        for task in test_query[2].split(\", \"):\n",
    "            for view in test_query[3].split(\", \"):\n",
    "                path = os.path.join('.', 'data', 'Labels', participant, dist, task, view)\n",
    "                test_files.append(path)\n",
    "\n",
    "print(fit_files)"
   ]
  },
  {
   "cell_type": "code",
   "execution_count": 27,
   "metadata": {},
   "outputs": [
    {
     "data": {
      "text/plain": [
       "['.\\\\data\\\\Labels\\\\Test_Subject_1\\\\id\\\\J\\\\Side_View\\\\J_GL_0.0.png',\n",
       " '.\\\\data\\\\Labels\\\\Test_Subject_1\\\\id\\\\J\\\\Side_View\\\\J_GL_1012.0.png',\n",
       " '.\\\\data\\\\Labels\\\\Test_Subject_1\\\\id\\\\J\\\\Side_View\\\\J_GL_1181.0.png',\n",
       " '.\\\\data\\\\Labels\\\\Test_Subject_1\\\\id\\\\J\\\\Side_View\\\\J_GL_1349.0.png',\n",
       " '.\\\\data\\\\Labels\\\\Test_Subject_1\\\\id\\\\J\\\\Side_View\\\\J_GL_1518.0.png',\n",
       " '.\\\\data\\\\Labels\\\\Test_Subject_1\\\\id\\\\J\\\\Side_View\\\\J_GL_168.0.png',\n",
       " '.\\\\data\\\\Labels\\\\Test_Subject_1\\\\id\\\\J\\\\Side_View\\\\J_GL_1687.0.png',\n",
       " '.\\\\data\\\\Labels\\\\Test_Subject_1\\\\id\\\\J\\\\Side_View\\\\J_GL_1855.0.png',\n",
       " '.\\\\data\\\\Labels\\\\Test_Subject_1\\\\id\\\\J\\\\Side_View\\\\J_GL_2024.0.png',\n",
       " '.\\\\data\\\\Labels\\\\Test_Subject_1\\\\id\\\\J\\\\Side_View\\\\J_GL_2193.0.png',\n",
       " '.\\\\data\\\\Labels\\\\Test_Subject_1\\\\id\\\\J\\\\Side_View\\\\J_GL_2362.0.png',\n",
       " '.\\\\data\\\\Labels\\\\Test_Subject_1\\\\id\\\\J\\\\Side_View\\\\J_GL_2530.0.png',\n",
       " '.\\\\data\\\\Labels\\\\Test_Subject_1\\\\id\\\\J\\\\Side_View\\\\J_GL_2699.0.png',\n",
       " '.\\\\data\\\\Labels\\\\Test_Subject_1\\\\id\\\\J\\\\Side_View\\\\J_GL_2868.0.png',\n",
       " '.\\\\data\\\\Labels\\\\Test_Subject_1\\\\id\\\\J\\\\Side_View\\\\J_GL_3037.0.png',\n",
       " '.\\\\data\\\\Labels\\\\Test_Subject_1\\\\id\\\\J\\\\Side_View\\\\J_GL_3205.0.png',\n",
       " '.\\\\data\\\\Labels\\\\Test_Subject_1\\\\id\\\\J\\\\Side_View\\\\J_GL_337.0.png',\n",
       " '.\\\\data\\\\Labels\\\\Test_Subject_1\\\\id\\\\J\\\\Side_View\\\\J_GL_3374.0.png',\n",
       " '.\\\\data\\\\Labels\\\\Test_Subject_1\\\\id\\\\J\\\\Side_View\\\\J_GL_3543.0.png',\n",
       " '.\\\\data\\\\Labels\\\\Test_Subject_1\\\\id\\\\J\\\\Side_View\\\\J_GL_3711.0.png',\n",
       " '.\\\\data\\\\Labels\\\\Test_Subject_1\\\\id\\\\J\\\\Side_View\\\\J_GL_3880.0.png',\n",
       " '.\\\\data\\\\Labels\\\\Test_Subject_1\\\\id\\\\J\\\\Side_View\\\\J_GL_4049.0.png',\n",
       " '.\\\\data\\\\Labels\\\\Test_Subject_1\\\\id\\\\J\\\\Side_View\\\\J_GL_4218.0.png',\n",
       " '.\\\\data\\\\Labels\\\\Test_Subject_1\\\\id\\\\J\\\\Side_View\\\\J_GL_4386.0.png',\n",
       " '.\\\\data\\\\Labels\\\\Test_Subject_1\\\\id\\\\J\\\\Side_View\\\\J_GL_4555.0.png',\n",
       " '.\\\\data\\\\Labels\\\\Test_Subject_1\\\\id\\\\J\\\\Side_View\\\\J_GL_4724.0.png',\n",
       " '.\\\\data\\\\Labels\\\\Test_Subject_1\\\\id\\\\J\\\\Side_View\\\\J_GL_4893.0.png',\n",
       " '.\\\\data\\\\Labels\\\\Test_Subject_1\\\\id\\\\J\\\\Side_View\\\\J_GL_506.0.png',\n",
       " '.\\\\data\\\\Labels\\\\Test_Subject_1\\\\id\\\\J\\\\Side_View\\\\J_GL_674.0.png',\n",
       " '.\\\\data\\\\Labels\\\\Test_Subject_1\\\\id\\\\J\\\\Side_View\\\\J_GL_843.0.png',\n",
       " '.\\\\data\\\\Labels\\\\Test_Subject_1\\\\id\\\\J\\\\Top_View\\\\J_GL_0.0.png',\n",
       " '.\\\\data\\\\Labels\\\\Test_Subject_1\\\\id\\\\J\\\\Top_View\\\\J_GL_10159.0.png',\n",
       " '.\\\\data\\\\Labels\\\\Test_Subject_1\\\\id\\\\J\\\\Top_View\\\\J_GL_1050.0.png',\n",
       " '.\\\\data\\\\Labels\\\\Test_Subject_1\\\\id\\\\J\\\\Top_View\\\\J_GL_1401.0.png',\n",
       " '.\\\\data\\\\Labels\\\\Test_Subject_1\\\\id\\\\J\\\\Top_View\\\\J_GL_1751.0.png',\n",
       " '.\\\\data\\\\Labels\\\\Test_Subject_1\\\\id\\\\J\\\\Top_View\\\\J_GL_2101.0.png',\n",
       " '.\\\\data\\\\Labels\\\\Test_Subject_1\\\\id\\\\J\\\\Top_View\\\\J_GL_2452.0.png',\n",
       " '.\\\\data\\\\Labels\\\\Test_Subject_1\\\\id\\\\J\\\\Top_View\\\\J_GL_2802.0.png',\n",
       " '.\\\\data\\\\Labels\\\\Test_Subject_1\\\\id\\\\J\\\\Top_View\\\\J_GL_3152.0.png',\n",
       " '.\\\\data\\\\Labels\\\\Test_Subject_1\\\\id\\\\J\\\\Top_View\\\\J_GL_350.0.png',\n",
       " '.\\\\data\\\\Labels\\\\Test_Subject_1\\\\id\\\\J\\\\Top_View\\\\J_GL_3503.0.png',\n",
       " '.\\\\data\\\\Labels\\\\Test_Subject_1\\\\id\\\\J\\\\Top_View\\\\J_GL_3853.0.png',\n",
       " '.\\\\data\\\\Labels\\\\Test_Subject_1\\\\id\\\\J\\\\Top_View\\\\J_GL_4203.0.png',\n",
       " '.\\\\data\\\\Labels\\\\Test_Subject_1\\\\id\\\\J\\\\Top_View\\\\J_GL_4554.0.png',\n",
       " '.\\\\data\\\\Labels\\\\Test_Subject_1\\\\id\\\\J\\\\Top_View\\\\J_GL_4904.0.png',\n",
       " '.\\\\data\\\\Labels\\\\Test_Subject_1\\\\id\\\\J\\\\Top_View\\\\J_GL_5254.0.png',\n",
       " '.\\\\data\\\\Labels\\\\Test_Subject_1\\\\id\\\\J\\\\Top_View\\\\J_GL_5604.0.png',\n",
       " '.\\\\data\\\\Labels\\\\Test_Subject_1\\\\id\\\\J\\\\Top_View\\\\J_GL_5955.0.png',\n",
       " '.\\\\data\\\\Labels\\\\Test_Subject_1\\\\id\\\\J\\\\Top_View\\\\J_GL_6305.0.png',\n",
       " '.\\\\data\\\\Labels\\\\Test_Subject_1\\\\id\\\\J\\\\Top_View\\\\J_GL_6655.0.png',\n",
       " '.\\\\data\\\\Labels\\\\Test_Subject_1\\\\id\\\\J\\\\Top_View\\\\J_GL_700.0.png',\n",
       " '.\\\\data\\\\Labels\\\\Test_Subject_1\\\\id\\\\J\\\\Top_View\\\\J_GL_7006.0.png',\n",
       " '.\\\\data\\\\Labels\\\\Test_Subject_1\\\\id\\\\J\\\\Top_View\\\\J_GL_7356.0.png',\n",
       " '.\\\\data\\\\Labels\\\\Test_Subject_1\\\\id\\\\J\\\\Top_View\\\\J_GL_7706.0.png',\n",
       " '.\\\\data\\\\Labels\\\\Test_Subject_1\\\\id\\\\J\\\\Top_View\\\\J_GL_8057.0.png',\n",
       " '.\\\\data\\\\Labels\\\\Test_Subject_1\\\\id\\\\J\\\\Top_View\\\\J_GL_8407.0.png',\n",
       " '.\\\\data\\\\Labels\\\\Test_Subject_1\\\\id\\\\J\\\\Top_View\\\\J_GL_8757.0.png',\n",
       " '.\\\\data\\\\Labels\\\\Test_Subject_1\\\\id\\\\J\\\\Top_View\\\\J_GL_9108.0.png',\n",
       " '.\\\\data\\\\Labels\\\\Test_Subject_1\\\\id\\\\J\\\\Top_View\\\\J_GL_9458.0.png',\n",
       " '.\\\\data\\\\Labels\\\\Test_Subject_1\\\\id\\\\J\\\\Top_View\\\\J_GL_9808.0.png',\n",
       " '.\\\\data\\\\Labels\\\\Test_Subject_1\\\\id\\\\TB\\\\Side_View\\\\TB_GL_0.0.png',\n",
       " '.\\\\data\\\\Labels\\\\Test_Subject_1\\\\id\\\\TB\\\\Side_View\\\\TB_GL_1056.0.png',\n",
       " '.\\\\data\\\\Labels\\\\Test_Subject_1\\\\id\\\\TB\\\\Side_View\\\\TB_GL_1207.0.png',\n",
       " '.\\\\data\\\\Labels\\\\Test_Subject_1\\\\id\\\\TB\\\\Side_View\\\\TB_GL_1358.0.png',\n",
       " '.\\\\data\\\\Labels\\\\Test_Subject_1\\\\id\\\\TB\\\\Side_View\\\\TB_GL_150.0.png',\n",
       " '.\\\\data\\\\Labels\\\\Test_Subject_1\\\\id\\\\TB\\\\Side_View\\\\TB_GL_1509.0.png',\n",
       " '.\\\\data\\\\Labels\\\\Test_Subject_1\\\\id\\\\TB\\\\Side_View\\\\TB_GL_1660.0.png',\n",
       " '.\\\\data\\\\Labels\\\\Test_Subject_1\\\\id\\\\TB\\\\Side_View\\\\TB_GL_1811.0.png',\n",
       " '.\\\\data\\\\Labels\\\\Test_Subject_1\\\\id\\\\TB\\\\Side_View\\\\TB_GL_1962.0.png',\n",
       " '.\\\\data\\\\Labels\\\\Test_Subject_1\\\\id\\\\TB\\\\Side_View\\\\TB_GL_2113.0.png',\n",
       " '.\\\\data\\\\Labels\\\\Test_Subject_1\\\\id\\\\TB\\\\Side_View\\\\TB_GL_2264.0.png',\n",
       " '.\\\\data\\\\Labels\\\\Test_Subject_1\\\\id\\\\TB\\\\Side_View\\\\TB_GL_2415.0.png',\n",
       " '.\\\\data\\\\Labels\\\\Test_Subject_1\\\\id\\\\TB\\\\Side_View\\\\TB_GL_2566.0.png',\n",
       " '.\\\\data\\\\Labels\\\\Test_Subject_1\\\\id\\\\TB\\\\Side_View\\\\TB_GL_2717.0.png',\n",
       " '.\\\\data\\\\Labels\\\\Test_Subject_1\\\\id\\\\TB\\\\Side_View\\\\TB_GL_2868.0.png',\n",
       " '.\\\\data\\\\Labels\\\\Test_Subject_1\\\\id\\\\TB\\\\Side_View\\\\TB_GL_301.0.png',\n",
       " '.\\\\data\\\\Labels\\\\Test_Subject_1\\\\id\\\\TB\\\\Side_View\\\\TB_GL_3019.0.png',\n",
       " '.\\\\data\\\\Labels\\\\Test_Subject_1\\\\id\\\\TB\\\\Side_View\\\\TB_GL_3170.0.png',\n",
       " '.\\\\data\\\\Labels\\\\Test_Subject_1\\\\id\\\\TB\\\\Side_View\\\\TB_GL_3321.0.png',\n",
       " '.\\\\data\\\\Labels\\\\Test_Subject_1\\\\id\\\\TB\\\\Side_View\\\\TB_GL_3472.0.png',\n",
       " '.\\\\data\\\\Labels\\\\Test_Subject_1\\\\id\\\\TB\\\\Side_View\\\\TB_GL_3623.0.png',\n",
       " '.\\\\data\\\\Labels\\\\Test_Subject_1\\\\id\\\\TB\\\\Side_View\\\\TB_GL_3774.0.png',\n",
       " '.\\\\data\\\\Labels\\\\Test_Subject_1\\\\id\\\\TB\\\\Side_View\\\\TB_GL_3925.0.png',\n",
       " '.\\\\data\\\\Labels\\\\Test_Subject_1\\\\id\\\\TB\\\\Side_View\\\\TB_GL_4076.0.png',\n",
       " '.\\\\data\\\\Labels\\\\Test_Subject_1\\\\id\\\\TB\\\\Side_View\\\\TB_GL_4227.0.png',\n",
       " '.\\\\data\\\\Labels\\\\Test_Subject_1\\\\id\\\\TB\\\\Side_View\\\\TB_GL_4378.0.png',\n",
       " '.\\\\data\\\\Labels\\\\Test_Subject_1\\\\id\\\\TB\\\\Side_View\\\\TB_GL_452.0.png',\n",
       " '.\\\\data\\\\Labels\\\\Test_Subject_1\\\\id\\\\TB\\\\Side_View\\\\TB_GL_603.0.png',\n",
       " '.\\\\data\\\\Labels\\\\Test_Subject_1\\\\id\\\\TB\\\\Side_View\\\\TB_GL_754.0.png',\n",
       " '.\\\\data\\\\Labels\\\\Test_Subject_1\\\\id\\\\TB\\\\Side_View\\\\TB_GL_905.0.png',\n",
       " '.\\\\data\\\\Labels\\\\Test_Subject_1\\\\id\\\\TB\\\\Top_View\\\\TB_GL_0.0.png',\n",
       " '.\\\\data\\\\Labels\\\\Test_Subject_1\\\\id\\\\TB\\\\Top_View\\\\TB_GL_1207.0.png',\n",
       " '.\\\\data\\\\Labels\\\\Test_Subject_1\\\\id\\\\TB\\\\Top_View\\\\TB_GL_1509.0.png',\n",
       " '.\\\\data\\\\Labels\\\\Test_Subject_1\\\\id\\\\TB\\\\Top_View\\\\TB_GL_1811.0.png',\n",
       " '.\\\\data\\\\Labels\\\\Test_Subject_1\\\\id\\\\TB\\\\Top_View\\\\TB_GL_2113.0.png',\n",
       " '.\\\\data\\\\Labels\\\\Test_Subject_1\\\\id\\\\TB\\\\Top_View\\\\TB_GL_2414.0.png',\n",
       " '.\\\\data\\\\Labels\\\\Test_Subject_1\\\\id\\\\TB\\\\Top_View\\\\TB_GL_2716.0.png',\n",
       " '.\\\\data\\\\Labels\\\\Test_Subject_1\\\\id\\\\TB\\\\Top_View\\\\TB_GL_301.0.png',\n",
       " '.\\\\data\\\\Labels\\\\Test_Subject_1\\\\id\\\\TB\\\\Top_View\\\\TB_GL_3018.0.png',\n",
       " '.\\\\data\\\\Labels\\\\Test_Subject_1\\\\id\\\\TB\\\\Top_View\\\\TB_GL_3320.0.png',\n",
       " '.\\\\data\\\\Labels\\\\Test_Subject_1\\\\id\\\\TB\\\\Top_View\\\\TB_GL_3622.0.png',\n",
       " '.\\\\data\\\\Labels\\\\Test_Subject_1\\\\id\\\\TB\\\\Top_View\\\\TB_GL_3924.0.png',\n",
       " '.\\\\data\\\\Labels\\\\Test_Subject_1\\\\id\\\\TB\\\\Top_View\\\\TB_GL_4226.0.png',\n",
       " '.\\\\data\\\\Labels\\\\Test_Subject_1\\\\id\\\\TB\\\\Top_View\\\\TB_GL_4527.0.png',\n",
       " '.\\\\data\\\\Labels\\\\Test_Subject_1\\\\id\\\\TB\\\\Top_View\\\\TB_GL_4829.0.png',\n",
       " '.\\\\data\\\\Labels\\\\Test_Subject_1\\\\id\\\\TB\\\\Top_View\\\\TB_GL_5131.0.png',\n",
       " '.\\\\data\\\\Labels\\\\Test_Subject_1\\\\id\\\\TB\\\\Top_View\\\\TB_GL_5433.0.png',\n",
       " '.\\\\data\\\\Labels\\\\Test_Subject_1\\\\id\\\\TB\\\\Top_View\\\\TB_GL_5735.0.png',\n",
       " '.\\\\data\\\\Labels\\\\Test_Subject_1\\\\id\\\\TB\\\\Top_View\\\\TB_GL_603.0.png',\n",
       " '.\\\\data\\\\Labels\\\\Test_Subject_1\\\\id\\\\TB\\\\Top_View\\\\TB_GL_6037.0.png',\n",
       " '.\\\\data\\\\Labels\\\\Test_Subject_1\\\\id\\\\TB\\\\Top_View\\\\TB_GL_6339.0.png',\n",
       " '.\\\\data\\\\Labels\\\\Test_Subject_1\\\\id\\\\TB\\\\Top_View\\\\TB_GL_6640.0.png',\n",
       " '.\\\\data\\\\Labels\\\\Test_Subject_1\\\\id\\\\TB\\\\Top_View\\\\TB_GL_6942.0.png',\n",
       " '.\\\\data\\\\Labels\\\\Test_Subject_1\\\\id\\\\TB\\\\Top_View\\\\TB_GL_7244.0.png',\n",
       " '.\\\\data\\\\Labels\\\\Test_Subject_1\\\\id\\\\TB\\\\Top_View\\\\TB_GL_7546.0.png',\n",
       " '.\\\\data\\\\Labels\\\\Test_Subject_1\\\\id\\\\TB\\\\Top_View\\\\TB_GL_7848.0.png',\n",
       " '.\\\\data\\\\Labels\\\\Test_Subject_1\\\\id\\\\TB\\\\Top_View\\\\TB_GL_8150.0.png',\n",
       " '.\\\\data\\\\Labels\\\\Test_Subject_1\\\\id\\\\TB\\\\Top_View\\\\TB_GL_8452.0.png',\n",
       " '.\\\\data\\\\Labels\\\\Test_Subject_1\\\\id\\\\TB\\\\Top_View\\\\TB_GL_8754.0.png',\n",
       " '.\\\\data\\\\Labels\\\\Test_Subject_1\\\\id\\\\TB\\\\Top_View\\\\TB_GL_905.0.png']"
      ]
     },
     "execution_count": 27,
     "metadata": {},
     "output_type": "execute_result"
    }
   ],
   "source": [
    "fit = [os.path.join(path, file) for path in fit_files for file in os.listdir(path)]\n",
    "test = [os.path.join(path, file) for path in test_files for file in os.listdir(path)]\n",
    "\n",
    "fit"
   ]
  },
  {
   "cell_type": "code",
   "execution_count": 29,
   "metadata": {},
   "outputs": [
    {
     "data": {
      "text/plain": [
       "<matplotlib.image.AxesImage at 0x1545d373190>"
      ]
     },
     "execution_count": 29,
     "metadata": {},
     "output_type": "execute_result"
    },
    {
     "data": {
      "image/png": "[encoded data removed]",
      "text/plain": [
       "<Figure size 640x480 with 1 Axes>"
      ]
     },
     "metadata": {},
     "output_type": "display_data"
    }
   ],
   "source": [
    "import matplotlib.pyplot as plt\n",
    "\n",
    "img = plt.imread(fit[0])\n",
    "plt.imshow(img)"
   ]
  },
  {
   "attachments": {},
   "cell_type": "markdown",
   "metadata": {},
   "source": [
    "## Testing ACE"
   ]
  },
  {
   "cell_type": "code",
   "execution_count": 1,
   "metadata": {},
   "outputs": [
    {
     "data": {
      "text/plain": [
       "'\\ninput:\\n    y - [N, W, H]\\npredictions = argmax over entire set -> [N, W, H]\\nprobs = softmax(predictions) -> [N, C, W, H]\\n\\nfor each image\\n    for each class\\n        find total range of probabilities\\n        split into ranges\\n\\n        for each range\\n            compute accuracy\\n            compute \\n\\n\\n'"
      ]
     },
     "execution_count": 1,
     "metadata": {},
     "output_type": "execute_result"
    }
   ],
   "source": [
    "## Pseudocode\n",
    "\n",
    "\"\"\"\n",
    "input:\n",
    "    y - [N, W, H]\n",
    "probs = softmax(predictions) -> [N, C, W, H]\n",
    "conf, predictions = torch.max(probs, axis=1) -> [N, W, H] (probabilities for each argmax class)\n",
    " - predictions is the argmax, conf is the corresponding probabilities\n",
    " - predictions = argmax over entire set -> [N, W, H]\n",
    "   \n",
    " \n",
    "aces = []\n",
    "\n",
    "for each image\n",
    "\n",
    "    sum = 0\n",
    "\n",
    "    for each class\n",
    "        find total range of probabilities of class in image and sort\n",
    "        split into ranges -> every N/Rth index\n",
    "\n",
    "        for each range\n",
    "            compute accuracy\n",
    "                - select values that match the bin\n",
    "                    - find the relevant predicted values\n",
    "                        - probs = torch.where(predictions == class, probs, 0)  # probability array only for valeus of the given class\n",
    "                        - predicted values = torch.where(((probs >= lower) & (probs<= upper)), predictions, 0) # returns argmax predictions for values in the decided range\n",
    "                        - relevant indices = probs.where((probs >= lower) & (probs<= upper))\n",
    "                    - find the relevant ground truth values\n",
    "                        - relevant_truth = y[relevant indices]\n",
    "                        - acc = predicted_values - relevant_truth\n",
    "                        - acc = abs(torch.sum(acc)) / len(predicted_values) \n",
    "                        - accurate values = torch.where(((y >= upper) & (y<= lower)), \n",
    "            compute confidence (avg of probs in the range)\n",
    "            sum += abs(acc - conf)\n",
    "    \n",
    "    ACE = sum / (num_classes * R)\n",
    "    aces.append(ACE)\n",
    "\n",
    "reurn avg(aces)\n",
    "\n",
    "\"\"\""
   ]
  },
  {
   "cell_type": "code",
   "execution_count": 2,
   "metadata": {},
   "outputs": [
    {
     "name": "stdout",
     "output_type": "stream",
     "text": [
      "4\n"
     ]
    }
   ],
   "source": [
    "print(4)"
   ]
  },
  {
   "cell_type": "code",
   "execution_count": 1,
   "metadata": {},
   "outputs": [
    {
     "name": "stderr",
     "output_type": "stream",
     "text": [
      "c:\\Users\\itsjo\\anaconda3\\envs\\test_env\\Lib\\site-packages\\numpy\\_distributor_init.py:30: UserWarning: loaded more than 1 DLL from .libs:\n",
      "c:\\Users\\itsjo\\anaconda3\\envs\\test_env\\Lib\\site-packages\\numpy\\.libs\\libopenblas.FB5AE2TYXYH2IJRDKGDGQ3XBKLKTF43H.gfortran-win_amd64.dll\n",
      "c:\\Users\\itsjo\\anaconda3\\envs\\test_env\\Lib\\site-packages\\numpy\\.libs\\libopenblas64__v0.3.21-gcc_10_3_0.dll\n",
      "  warnings.warn(\"loaded more than 1 DLL from .libs:\"\n"
     ]
    },
    {
     "data": {
      "text/plain": [
       "tensor([[[-1.6551, -1.0751, -0.6622],\n",
       "         [ 2.7866, -0.3931,  0.4745]]])"
      ]
     },
     "execution_count": 1,
     "metadata": {},
     "output_type": "execute_result"
    }
   ],
   "source": [
    "import torch\n",
    "torch.randn(1, 2, 3)"
   ]
  },
  {
   "cell_type": "code",
   "execution_count": 21,
   "metadata": {},
   "outputs": [
    {
     "name": "stdout",
     "output_type": "stream",
     "text": [
      "torch.Size([2, 3, 16, 16])\n",
      "torch.Size([2, 3, 16, 16])\n",
      "torch.Size([1, 2, 3, 16, 16])\n"
     ]
    },
    {
     "data": {
      "text/plain": [
       "True"
      ]
     },
     "execution_count": 21,
     "metadata": {},
     "output_type": "execute_result"
    }
   ],
   "source": [
    "from UNET import UNET\n",
    "\n",
    "\n",
    "x = torch.randn(2, 3, 16, 16)\n",
    "inputs = [x]\n",
    "\n",
    "\n",
    "models = [UNET(in_channels=3, out_channels=3, droprate=0) for _ in range(1)]\n",
    "\n",
    "raw_preds = []\n",
    "for model, x in zip(models, inputs):\n",
    "    raw = model(x)\n",
    "    print(raw.shape)\n",
    "    raw_preds.append(raw)\n",
    "\n",
    "raw_stack = torch.stack(raw_preds, dim=0)\n",
    "avg_preds = torch.mean(raw_stack, dim=0)\n",
    "\n",
    "print(avg_preds.shape)\n",
    "print(raw_stack.shape)\n",
    "\n",
    "\n",
    "torch.equal(avg_preds, model(inputs[0]))\n",
    "\n",
    "\n",
    "\n",
    "\n",
    "\n",
    "\n"
   ]
  },
  {
   "cell_type": "code",
   "execution_count": null,
   "metadata": {},
   "outputs": [],
   "source": [
    "import pytorch_lightning as pl\n",
    "import torch\n",
    "import torch.nn as nn\n",
    "import torchvision.transforms.functional as TF\n",
    "from dataloader import AssemblyDataset\n",
    "from torch.utils.data import DataLoader\n",
    "from UNET import UNET\n",
    "import torch.nn.functional as F\n",
    "from torch.utils.data import random_split\n",
    "from argparse import ArgumentParser\n",
    "import os\n",
    "from datamodule import AssemblyDataModule\n",
    "from pytorch_lightning import loggers as pl_loggers\n",
    "from pytorch_lightning.profilers import PyTorchProfiler\n",
    "import torchvision\n",
    "import torchmetrics\n",
    "from metrics import *\n",
    "import numpy as np\n",
    "from pytorch_lightning.cli import LightningCLI\n",
    "\n",
    "class LitModel(pl.LightningModule):\n",
    "    def __init__(self, num_models=2, droprate=0):\n",
    "        super(LitModel, self).__init__()\n",
    "        self.models = [UNET(in_channels=3, out_channels=3, droprate=0) for _ in range(num_models)]\n",
    "        # model = UNET(in_channels=3, out_channels=3, droprate=0)\n",
    "        self.iou = torchmetrics.JaccardIndex(task=\"multiclass\", num_classes=3)\n",
    "\n",
    "        #only use hyperparameters if you need it for instantiating the model\n",
    "        # otherwise, use it from the CLI only for simplicity\n",
    "        # self.save_hyperparameters()\n",
    "\n",
    "\n",
    "    def training_step(self, batch, batch_idx):\n",
    "        loss, raw_preds= self._common_set(batch, batch_idx)\n",
    "\n",
    "        # raw preds shape - [4, 3, 161, 161]\n",
    "\n",
    "        # defualt on epoch=False, which is why it was not showing earlier\n",
    "        self.log(\"train_loss\", loss, on_epoch=True, prog_bar=True, logger=True)\n",
    "\n",
    "        # why was no training loss recorded?\n",
    "        # what is hp metric\n",
    "\n",
    "        return loss\n",
    "    \n",
    "    def validation_step(self, batch, batch_idx):\n",
    "        x, y = batch\n",
    "        loss, raw_preds= self._common_set(batch, batch_idx)\n",
    "        self.log_dict(\n",
    "            {\n",
    "                \"val_loss\": loss,\n",
    "                \"val_iou\": self.iou(raw_preds, y.to(torch.int32))\n",
    "            },\n",
    "            prog_bar=True\n",
    "        )\n",
    "\n",
    "        # for every two batches\n",
    "        if batch_idx % 2 == 0:\n",
    "            self._make_grid(x, \"val_images\")\n",
    "            predictions = torch.argmax(raw_preds, dim=1)\n",
    "\n",
    "            # predictions only on 0, 1 (most likely because we need more epochs) -> check that dim is correct, though\n",
    "            self._make_grid(predictions, \"val_preds\")\n",
    "\n",
    "    def test_step(self, batch, batch_idx):\n",
    "        x, y = batch\n",
    "        # is this working properly? barely any metric data.\n",
    "        loss, raw_preds = self._common_set(batch, batch_idx)\n",
    "\n",
    "        # raw_preds - [4, 3, 161, 161]\n",
    "        # y - [4, 161, 161]\n",
    "        # x- [4, 3, 161, 161]\n",
    "\n",
    "        # automatically averages these values across the epoch\n",
    "        self.log_dict(\n",
    "            {\n",
    "                \"test_loss\": loss,\n",
    "                \"test_iou\": self.iou(raw_preds, y.to(torch.int32)),\n",
    "                # \"test_ace\": adaptive_calibration_error(raw_preds, y),\n",
    "                \"test_entropy\": predictive_entropy(raw_preds)\n",
    "            },\n",
    "            prog_bar=True\n",
    "        )\n",
    "\n",
    "    def predict_step(self, batch, batch_idx):\n",
    "        # used only when loading a model from a checkpoint\n",
    "        # use argmax here\n",
    "        x, y = batch\n",
    "        raw_preds = self.model(x)\n",
    "        probs = F.softmax(raw_preds, dim=1)\n",
    "        preds = torch.argmax(probs, dim=1)\n",
    "        return preds\n",
    "\n",
    "    def configure_optimizers(self):\n",
    "        optimizer = torch.optim.Adam(\n",
    "            [\n",
    "                {\"params\": model.parameters()} for model in self.models\n",
    "            ],\n",
    "            lr=0.001\n",
    "        )\n",
    "        return optimizer\n",
    "    \n",
    "    def _common_set(self, batch, batch_idx):\n",
    "        x, y = batch\n",
    "\n",
    "        raw_preds = []\n",
    "        for model in self.models:\n",
    "            pred = model(x)\n",
    "            raw_preds.append(pred)\n",
    "        preds_stack = torch.stack(raw_preds)\n",
    "        avg_preds = torch.mean(preds_stack, dim=0)\n",
    "\n",
    "        loss = F.cross_entropy(avg_preds, y.long())\n",
    "        # raw_preds - [4, 3, 161, 161]\n",
    "        # x - [4, 3, 161, 161]\n",
    "        # y - [4, 161, 161]\n",
    "        return loss, avg_preds\n",
    "    \n",
    "    # creates a grid of images and respective predictions in the validation set\n",
    "    def _make_grid(self, values, name):\n",
    "        # grid = torchvision.utils.make_grid(values[0])\n",
    "\n",
    "        if name == \"val_preds\":\n",
    "            \n",
    "            values = values.cpu().numpy()\n",
    "\n",
    "            final_imgs = np.zeros((values.shape[0], 3, values.shape[1], values.shape[2]))\n",
    "\n",
    "            for idx, preds in enumerate(values):\n",
    "                color_map = {\n",
    "                    0: (0, 0, 0),\n",
    "                    1: (0, 255, 0),\n",
    "                    2: (0, 0, 255)\n",
    "                }\n",
    "\n",
    "                final_image = np.zeros((preds.shape[0], preds.shape[1], 3), dtype=np.uint8)\n",
    "                for index, color in color_map.items():\n",
    "                    final_image[preds == index] = color\n",
    "\n",
    "                preds = np.transpose(final_image, (2, 0, 1))\n",
    "\n",
    "                final_imgs[idx, :, :, :] = preds\n",
    "            values = final_imgs\n",
    "\n",
    "\n",
    "\n",
    "\n",
    "        self.logger.experiment.add_images(\n",
    "            name,\n",
    "            values[:3],\n",
    "            self.global_step,\n",
    "        )\n",
    "\n",
    "if __name__ == \"__main__\":\n",
    "\n",
    "\n",
    "    torch.set_float32_matmul_precision('medium')\n",
    "    model = LitModel()\n",
    "    dm = AssemblyDataModule(\n",
    "        fit_query= ['Test_Subject_1', 'ood', 'J', 'Top_View'],\n",
    "        test_query= ['Test_Subject_1', 'ood', 'TB', 'Side_View']\n",
    "    )\n",
    "\n",
    "    tensorboard = pl_loggers.TensorBoardLogger(save_dir='./logs')\n",
    "\n",
    "    trainer = pl.Trainer(default_root_dir='./checkpoints/', \n",
    "                         accelerator=\"gpu\", max_epochs=150, logger=tensorboard, fast_dev_run=True,\n",
    "                         profiler=\"pytorch\")\n",
    "\n",
    "\n",
    "    # trainer.fit(model, dm, ckpt_path='./logs/lightning_logs/version_11/checkpoints/epoch=114-step=115.ckpt')\n",
    "    trainer.fit(model, dm)\n",
    "\n",
    "    trainer.test(model, dm)"
   ]
  },
  {
   "cell_type": "code",
   "execution_count": 28,
   "metadata": {},
   "outputs": [
    {
     "data": {
      "text/plain": [
       "<matplotlib.image.AxesImage at 0x23e75f84b50>"
      ]
     },
     "execution_count": 28,
     "metadata": {},
     "output_type": "execute_result"
    },
    {
     "data": {
      "image/png": "[encoded data removed]",
      "text/plain": [
       "<Figure size 640x480 with 1 Axes>"
      ]
     },
     "metadata": {},
     "output_type": "display_data"
    }
   ],
   "source": [
    "from PIL import Image\n",
    "import numpy as np\n",
    "from torchvision import transforms\n",
    "import matplotlib.pyplot as plt\n",
    "\n",
    "image = Image.open(\"J_GL_4893.0.png\")\n",
    "\n",
    "\n",
    "image_arr = np.asarray(image)\n",
    "\n",
    "transform = transforms.Compose ([\n",
    "    # transforms.Resize(size=(161, 161), interpolation=PIL.Image.NEAREST),\n",
    "    transforms.ToTensor()\n",
    "])\n",
    "\n",
    "image_arr = transform(image)\n",
    "\n",
    "image_arr = image_arr[0, :, :] + image_arr[1, :, :] + np.multiply(image_arr[2, :, :], 2)\n",
    "\n",
    "np.unique(image_arr)\n",
    "\n",
    "pil_image = Image.fromarray(np.uint8(image_arr))\n",
    "\n",
    "\n",
    "plt.imshow(image_arr)\n"
   ]
  },
  {
   "cell_type": "code",
   "execution_count": 2,
   "metadata": {},
   "outputs": [
    {
     "ename": "ModuleNotFoundError",
     "evalue": "No module named 'models'",
     "output_type": "error",
     "traceback": [
      "\u001b[1;31m---------------------------------------------------------------------------\u001b[0m",
      "\u001b[1;31mModuleNotFoundError\u001b[0m                       Traceback (most recent call last)",
      "Cell \u001b[1;32mIn[2], line 1\u001b[0m\n\u001b[1;32m----> 1\u001b[0m \u001b[39mfrom\u001b[39;00m \u001b[39mmodels\u001b[39;00m \u001b[39mimport\u001b[39;00m UNET\n",
      "\u001b[1;31mModuleNotFoundError\u001b[0m: No module named 'models'"
     ]
    }
   ],
   "source": [
    "from models import UNET"
   ]
  },
  {
   "cell_type": "code",
   "execution_count": 1,
   "metadata": {},
   "outputs": [
    {
     "ename": "ModuleNotFoundError",
     "evalue": "No module named 'dataloaders'",
     "output_type": "error",
     "traceback": [
      "\u001b[1;31m---------------------------------------------------------------------------\u001b[0m",
      "\u001b[1;31mModuleNotFoundError\u001b[0m                       Traceback (most recent call last)",
      "Cell \u001b[1;32mIn[1], line 1\u001b[0m\n\u001b[1;32m----> 1\u001b[0m \u001b[39mfrom\u001b[39;00m \u001b[39mdataloaders\u001b[39;00m\u001b[39m.\u001b[39;00m\u001b[39mdatamodule\u001b[39;00m \u001b[39mimport\u001b[39;00m AssemblyDataModule\n",
      "\u001b[1;31mModuleNotFoundError\u001b[0m: No module named 'dataloaders'"
     ]
    }
   ],
   "source": [
    "from dataloaders.datamodule import AssemblyDataModule"
   ]
  },
  {
   "cell_type": "code",
   "execution_count": null,
   "metadata": {},
   "outputs": [],
   "source": []
  }
 ],
 "metadata": {
  "kernelspec": {
   "display_name": "test_env",
   "language": "python",
   "name": "python3"
  },
  "language_info": {
   "codemirror_mode": {
    "name": "ipython",
    "version": 3
   },
   "file_extension": ".py",
   "mimetype": "text/x-python",
   "name": "python",
   "nbconvert_exporter": "python",
   "pygments_lexer": "ipython3",
   "version": "3.11.3"
  },
  "orig_nbformat": 4
 },
 "nbformat": 4,
 "nbformat_minor": 2
}
