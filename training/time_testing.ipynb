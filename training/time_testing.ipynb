{
 "cells": [
  {
   "cell_type": "code",
   "execution_count": 1,
   "metadata": {},
   "outputs": [
    {
     "data": {
      "text/plain": [
       "'/home/shivansh/repos/assembly_glovebox_dataset'"
      ]
     },
     "execution_count": 1,
     "metadata": {},
     "output_type": "execute_result"
    }
   ],
   "source": [
    "import os\n",
    "\n",
    "os.chdir('../')\n",
    "os.getcwd()"
   ]
  },
  {
   "cell_type": "code",
   "execution_count": 2,
   "metadata": {},
   "outputs": [],
   "source": [
    "import torch\n",
    "import torch.nn.functional as F\n",
    "import torchmetrics\n",
    "\n",
    "from training.lightning_trainers.lightning_model import LitModel\n",
    "from training.lightning_trainers.mobilesam_model import MobileSamLitModel\n",
    "from training.lightning_trainers.bisenetv2_model import BiSeNetV2Model\n",
    "\n",
    "from lightning.pytorch import loggers as pl_loggers\n",
    "from training.dataloaders.datamodule import AssemblyDataModule\n",
    "import lightning.pytorch as pl\n",
    "\n",
    "import time\n",
    "import os"
   ]
  },
  {
   "cell_type": "code",
   "execution_count": 3,
   "metadata": {},
   "outputs": [],
   "source": [
    "test_dropout = False\n",
    "\n",
    "\n",
    "def get_path(model_type):\n",
    "    if model_type == \"unet\":\n",
    "        path_1 = \"./lightning_logs/version_73/checkpoints/epoch=1011-step=8096.ckpt\"\n",
    "        model_1 = LitModel.load_from_checkpoint(path_1, map_location=torch.device('cuda:0'), test_dropout=test_dropout)\n",
    "\n",
    "        path_2 = \"./lightning_logs/version_76/checkpoints/epoch=1856-step=29712.ckpt\"\n",
    "        model_2 = LitModel.load_from_checkpoint(path_2, map_location=torch.device('cuda:0'), test_dropout=test_dropout)\n",
    "\n",
    "        path_3 = \"./lightning_logs/version_78/checkpoints/epoch=3223-step=51584.ckpt\"\n",
    "        model_3 = LitModel.load_from_checkpoint(path_3, map_location=torch.device('cuda:0'), test_dropout=test_dropout)\n",
    "\n",
    "    if model_type == \"bisenetv2\":\n",
    "        path_1=\"./lightning_logs/version_79/checkpoints/epoch=3373-step=26992.ckpt\"\n",
    "        model_1 = BiSeNetV2Model.load_from_checkpoint(path_1, map_location=torch.device('cuda:1'), test_dropout=test_dropout)\n",
    "\n",
    "        \n",
    "        path_2=\"./lightning_logs/version_77/checkpoints/epoch=1083-step=8672.ckpt\"\n",
    "        model_2 = BiSeNetV2Model.load_from_checkpoint(path_2, map_location=torch.device('cuda:1'), test_dropout=test_dropout)\n",
    "\n",
    "        path_3=\"./lightning_logs/version_72/checkpoints/epoch=1440-step=11528.ckpt\"\n",
    "        model_3 = BiSeNetV2Model.load_from_checkpoint(path_3, map_location=torch.device('cuda:1'), test_dropout=test_dropout)\n",
    "\n",
    "    if model_type == \"mobilesam\":\n",
    "        \n",
    "        path_1=\"./lightning_logs/version_80/checkpoints/epoch=3027-step=24224.ckpt\"\n",
    "        model_1 = MobileSamLitModel.load_from_checkpoint(path_1, map_location=torch.device('cuda:2'), test_dropout=test_dropout)\n",
    "        \n",
    "        path_2=\"./lightning_logs/version_75/checkpoints/epoch=1849-step=29600.ckpt\"\n",
    "        model_2 = MobileSamLitModel.load_from_checkpoint(path_2, map_location=torch.device('cuda:2'), test_dropout=test_dropout)\n",
    "\n",
    "        path_3=\"./lightning_logs/version_69/checkpoints/epoch=1312-step=10704.ckpt\"\n",
    "        model_3 = MobileSamLitModel.load_from_checkpoint(path_3, map_location=torch.device('cuda:2'), test_dropout=test_dropout)\n",
    "\n",
    "    return [model_1, model_2, model_3]"
   ]
  },
  {
   "cell_type": "markdown",
   "metadata": {},
   "source": [
    "# 1. Warm up the gpu"
   ]
  },
  {
   "cell_type": "markdown",
   "metadata": {},
   "source": [
    "TODO: \n",
    "- add dropout\n",
    "- right image loading (divide by batch across entire set using dataloader)\n",
    "- \n",
    "\n",
    "Edit back CUDA device change in get_prediction in mobilesam_model.py"
   ]
  },
  {
   "cell_type": "markdown",
   "metadata": {},
   "source": [
    "# 2. Load an image to use from dataset"
   ]
  },
  {
   "cell_type": "code",
   "execution_count": 4,
   "metadata": {},
   "outputs": [],
   "source": [
    "image_0 = torch.randn(1, 3, 256, 256).cuda(device='cuda:0')\n",
    "image_1 = torch.randn(2, 3, 256, 256).cuda(device='cuda:1')\n",
    "image_2 = torch.randn(1, 3, 256, 256).cuda(device='cuda:2')"
   ]
  },
  {
   "cell_type": "markdown",
   "metadata": {},
   "source": [
    "# 3. Test Time Predictions for Each Model"
   ]
  },
  {
   "cell_type": "markdown",
   "metadata": {},
   "source": [
    "### unet"
   ]
  },
  {
   "cell_type": "code",
   "execution_count": 5,
   "metadata": {},
   "outputs": [
    {
     "data": {
      "text/plain": [
       "0.6510903835296631"
      ]
     },
     "execution_count": 5,
     "metadata": {},
     "output_type": "execute_result"
    }
   ],
   "source": [
    "models = get_path(\"unet\")\n",
    "\n",
    "ensemble_time = 0\n",
    "for model in models:\n",
    "    start_time = time.time()\n",
    "\n",
    "    output = model.model(image_0)\n",
    "\n",
    "    end_time = time.time()\n",
    "\n",
    "    ensemble_time += end_time - start_time\n",
    "\n",
    "ensemble_time"
   ]
  },
  {
   "cell_type": "code",
   "execution_count": 6,
   "metadata": {},
   "outputs": [
    {
     "data": {
      "text/plain": [
       "0.0038001537322998047"
      ]
     },
     "execution_count": 6,
     "metadata": {},
     "output_type": "execute_result"
    }
   ],
   "source": [
    "start_time = time.time()\n",
    "\n",
    "model_1 = models[1]\n",
    "\n",
    "output = model_1.model(image_0)\n",
    "\n",
    "end_time = time.time()\n",
    "\n",
    "base_time =  end_time - start_time\n",
    "\n",
    "base_time"
   ]
  },
  {
   "cell_type": "markdown",
   "metadata": {},
   "source": [
    "### bisenet"
   ]
  },
  {
   "cell_type": "code",
   "execution_count": 7,
   "metadata": {},
   "outputs": [
    {
     "data": {
      "text/plain": [
       "0.20866870880126953"
      ]
     },
     "execution_count": 7,
     "metadata": {},
     "output_type": "execute_result"
    }
   ],
   "source": [
    "models = get_path(\"bisenetv2\")\n",
    "\n",
    "ensemble_time = 0\n",
    "for model in models:\n",
    "    start_time = time.time()\n",
    "\n",
    "    output = model.model(image_1)\n",
    "\n",
    "    end_time = time.time()\n",
    "\n",
    "    ensemble_time += end_time - start_time\n",
    "\n",
    "ensemble_time / image_1.shape[0] # bisenet needs 2 images passed"
   ]
  },
  {
   "cell_type": "code",
   "execution_count": 8,
   "metadata": {},
   "outputs": [
    {
     "data": {
      "text/plain": [
       "0.004986286163330078"
      ]
     },
     "execution_count": 8,
     "metadata": {},
     "output_type": "execute_result"
    }
   ],
   "source": [
    "start_time = time.time()\n",
    "\n",
    "model_1 = models[0]\n",
    "\n",
    "output = model_1.model(image_1)\n",
    "\n",
    "end_time = time.time()\n",
    "\n",
    "base_time =  end_time - start_time\n",
    "\n",
    "base_time / image_1.shape[0]"
   ]
  },
  {
   "cell_type": "markdown",
   "metadata": {},
   "source": [
    "# mobilesam"
   ]
  },
  {
   "cell_type": "code",
   "execution_count": 9,
   "metadata": {},
   "outputs": [
    {
     "data": {
      "text/plain": [
       "(device(type='cuda', index=2), device(type='cuda', index=1))"
      ]
     },
     "execution_count": 9,
     "metadata": {},
     "output_type": "execute_result"
    }
   ],
   "source": [
    "image_2.device, model.device"
   ]
  },
  {
   "cell_type": "code",
   "execution_count": 10,
   "metadata": {},
   "outputs": [
    {
     "data": {
      "text/plain": [
       "0.38238000869750977"
      ]
     },
     "execution_count": 10,
     "metadata": {},
     "output_type": "execute_result"
    }
   ],
   "source": [
    "models = get_path(\"mobilesam\")\n",
    "\n",
    "ensemble_time = 0\n",
    "for model in models:\n",
    "    \n",
    "    start_time = time.time()\n",
    "\n",
    "    output = model._get_preds(image_2)\n",
    "\n",
    "    end_time = time.time()\n",
    "\n",
    "    ensemble_time += end_time - start_time\n",
    "\n",
    "ensemble_time"
   ]
  },
  {
   "cell_type": "code",
   "execution_count": 13,
   "metadata": {},
   "outputs": [
    {
     "data": {
      "text/plain": [
       "0.028254389762878418"
      ]
     },
     "execution_count": 13,
     "metadata": {},
     "output_type": "execute_result"
    }
   ],
   "source": [
    "start_time = time.time()\n",
    "\n",
    "model_1 = models[1].to(image_2.device)\n",
    "\n",
    "output = model_1._get_preds(image_2)\n",
    "\n",
    "end_time = time.time()\n",
    "\n",
    "base_time =  end_time - start_time\n",
    "\n",
    "base_time / image_1.shape[0]"
   ]
  },
  {
   "cell_type": "markdown",
   "metadata": {},
   "source": []
  }
 ],
 "metadata": {
  "kernelspec": {
   "display_name": "assemblyhrc",
   "language": "python",
   "name": "python3"
  },
  "language_info": {
   "codemirror_mode": {
    "name": "ipython",
    "version": 3
   },
   "file_extension": ".py",
   "mimetype": "text/x-python",
   "name": "python",
   "nbconvert_exporter": "python",
   "pygments_lexer": "ipython3",
   "version": "3.11.4"
  }
 },
 "nbformat": 4,
 "nbformat_minor": 2
}
