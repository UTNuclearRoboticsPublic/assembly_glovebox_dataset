{
 "cells": [
  {
   "cell_type": "code",
   "execution_count": 1,
   "metadata": {},
   "outputs": [
    {
     "data": {
      "text/plain": [
       "'/home/shivansh/repos/assembly_glovebox_dataset'"
      ]
     },
     "execution_count": 1,
     "metadata": {},
     "output_type": "execute_result"
    }
   ],
   "source": [
    "import os\n",
    "\n",
    "os.chdir('../')\n",
    "os.getcwd()"
   ]
  },
  {
   "cell_type": "code",
   "execution_count": 2,
   "metadata": {},
   "outputs": [],
   "source": [
    "import torch\n",
    "import torch.nn.functional as F\n",
    "import torchmetrics\n",
    "\n",
    "from training.lightning_trainers.lightning_model import LitModel\n",
    "from training.lightning_trainers.mobilesam_model import MobileSamLitModel\n",
    "from training.lightning_trainers.bisenetv2_model import BiSeNetV2Model\n",
    "\n",
    "from lightning.pytorch import loggers as pl_loggers\n",
    "from training.dataloaders.datamodule import AssemblyDataModule\n",
    "import lightning.pytorch as pl\n",
    "\n",
    "import time\n",
    "import os"
   ]
  },
  {
   "cell_type": "code",
   "execution_count": 3,
   "metadata": {},
   "outputs": [],
   "source": [
    "test_dropout = False\n",
    "\n",
    "\n",
    "def get_path(model_type):\n",
    "    if model_type == \"unet\":\n",
    "        path_1 = \"./lightning_logs/version_73/checkpoints/epoch=1011-step=8096.ckpt\"\n",
    "        model_1 = LitModel.load_from_checkpoint(path_1, map_location=torch.device('cuda:0'), test_dropout=test_dropout)\n",
    "\n",
    "        path_2 = \"./lightning_logs/version_76/checkpoints/epoch=1856-step=29712.ckpt\"\n",
    "        model_2 = LitModel.load_from_checkpoint(path_2, map_location=torch.device('cuda:0'), test_dropout=test_dropout)\n",
    "\n",
    "        path_3 = \"./lightning_logs/version_78/checkpoints/epoch=3223-step=51584.ckpt\"\n",
    "        model_3 = LitModel.load_from_checkpoint(path_3, map_location=torch.device('cuda:0'), test_dropout=test_dropout)\n",
    "\n",
    "    if model_type == \"bisenetv2\":\n",
    "        path_1=\"./lightning_logs/version_79/checkpoints/epoch=3373-step=26992.ckpt\"\n",
    "        model_1 = BiSeNetV2Model.load_from_checkpoint(path_1, map_location=torch.device('cuda:1'), test_dropout=test_dropout)\n",
    "\n",
    "        \n",
    "        path_2=\"./lightning_logs/version_77/checkpoints/epoch=1083-step=8672.ckpt\"\n",
    "        model_2 = BiSeNetV2Model.load_from_checkpoint(path_2, map_location=torch.device('cuda:1'), test_dropout=test_dropout)\n",
    "\n",
    "        path_3=\"./lightning_logs/version_72/checkpoints/epoch=1440-step=11528.ckpt\"\n",
    "        model_3 = BiSeNetV2Model.load_from_checkpoint(path_3, map_location=torch.device('cuda:1'), test_dropout=test_dropout)\n",
    "\n",
    "    if model_type == \"mobilesam\":\n",
    "        \n",
    "        path_1=\"./lightning_logs/version_80/checkpoints/epoch=3027-step=24224.ckpt\"\n",
    "        model_1 = MobileSamLitModel.load_from_checkpoint(path_1, map_location=torch.device('cuda:2'), test_dropout=test_dropout)\n",
    "        \n",
    "        path_2=\"./lightning_logs/version_75/checkpoints/epoch=1849-step=29600.ckpt\"\n",
    "        model_2 = MobileSamLitModel.load_from_checkpoint(path_2, map_location=torch.device('cuda:2'), test_dropout=test_dropout)\n",
    "\n",
    "        path_3=\"./lightning_logs/version_69/checkpoints/epoch=1312-step=10704.ckpt\"\n",
    "        model_3 = MobileSamLitModel.load_from_checkpoint(path_3, map_location=torch.device('cuda:2'), test_dropout=test_dropout)\n",
    "\n",
    "    return [model_1, model_2, model_3]"
   ]
  },
  {
   "cell_type": "markdown",
   "metadata": {},
   "source": [
    "# 1. Warm up the gpu"
   ]
  },
  {
   "cell_type": "markdown",
   "metadata": {},
   "source": [
    "TODO: \n",
    "- add dropout\n",
    "- right image loading (divide by batch across entire set using dataloader)\n",
    "- \n",
    "\n",
    "Edit back CUDA device change in get_prediction in mobilesam_model.py"
   ]
  },
  {
   "cell_type": "markdown",
   "metadata": {},
   "source": [
    "# 2. Load an image to use from dataset"
   ]
  },
  {
   "cell_type": "code",
   "execution_count": 4,
   "metadata": {},
   "outputs": [],
   "source": [
    "image_0 = torch.randn(1, 3, 256, 256).cuda(device='cuda:0')\n",
    "image_1 = torch.randn(2, 3, 256, 256).cuda(device='cuda:1')\n",
    "image_2 = torch.randn(1, 3, 256, 256).cuda(device='cuda:2')"
   ]
  },
  {
   "cell_type": "code",
   "execution_count": 5,
   "metadata": {},
   "outputs": [],
   "source": [
    "from training.dataloaders.datamodule import AssemblyDataModule\n"
   ]
  },
  {
   "cell_type": "code",
   "execution_count": 6,
   "metadata": {},
   "outputs": [],
   "source": [
    "# TODO: make this a command line argument\n",
    "model_type = \"unet\"\n",
    "fast_dev_run = False\n",
    "\n",
    "# TODO: make this a command line argument\n",
    "sets = [\"ood\", \"id\", \"gs\", \"ood+gs\"]\n",
    "# Step 1. Load all relevant models in the ensemble.\n",
    "# Be consistent, either chose the latest or best performing epoch. Don't combine like I think I did.\n",
    "\n",
    "if model_type == \"bisenetv2\":\n",
    "    batch_size = 128\n",
    "elif model_type == \"unet\":\n",
    "    batch_size = 64\n",
    "elif model_type == \"mobilesam\":\n",
    "    batch_size = 64\n",
    "else:\n",
    "    batch_size = 0\n",
    "\n",
    "\n",
    "\n",
    "data = {\n",
    "    \"fit_query\": {\n",
    "        \"participants\": [\n",
    "            \"Test_Subject_1\",\n",
    "            \"Test_Subject_2\",\n",
    "            \"Test_Subject_3\",\n",
    "            \"Test_Subject_4\",\n",
    "            \"Test_Subject_6\",\n",
    "            \"Test_Subject_7\",\n",
    "            \"Test_Subject_9\",\n",
    "            \"Test_Subject_10\",\n",
    "            \"Test_Subject_11\",\n",
    "            \"Test_Subject_12\"\n",
    "        ],\n",
    "        \"distribution\": [\"id\"],\n",
    "        \"task\": [\"J\", \"TB\"],\n",
    "        \"view\": [\"Top_View\", \"Side_View\"]\n",
    "    },\n",
    "    \"test_query\": { # because we are testing using in distribution\n",
    "        \"participants\": [\n",
    "            \"Test_Subject_2\"\n",
    "        ],\n",
    "        \"distribution\": [\"id\"],\n",
    "        \"task\": [\"J\", \"TB\"],\n",
    "        \"view\": [\"Top_View\", \"Side_View\"]\n",
    "    },\n",
    "}\n",
    "\n",
    "dm = AssemblyDataModule(\n",
    "    test_query = data.get(\"test_query\"),\n",
    "    fit_query = data.get(\"fit_query\"),\n",
    "    batch_size=batch_size,\n",
    "    img_size=256\n",
    ")"
   ]
  },
  {
   "cell_type": "code",
   "execution_count": 25,
   "metadata": {},
   "outputs": [
    {
     "name": "stdout",
     "output_type": "stream",
     "text": [
      "the query is {'participants': ['Test_Subject_2'], 'distribution': ['id'], 'task': ['J', 'TB'], 'view': ['Top_View', 'Side_View']}\n"
     ]
    },
    {
     "data": {
      "text/plain": [
       "<torch.utils.data.dataloader.DataLoader at 0x7efa13f9fe50>"
      ]
     },
     "execution_count": 25,
     "metadata": {},
     "output_type": "execute_result"
    }
   ],
   "source": [
    "dm.setup(stage=\"test\")\n",
    "dm.test_dataloader()"
   ]
  },
  {
   "cell_type": "code",
   "execution_count": 29,
   "metadata": {},
   "outputs": [
    {
     "name": "stdout",
     "output_type": "stream",
     "text": [
      "hi\n",
      "torch.Size([64, 3, 256, 256])\n"
     ]
    }
   ],
   "source": [
    "x = None\n",
    "\n",
    "for batch in dm.test_dataloader():\n",
    "    print(\"hi\")\n",
    "    x, y = batch\n",
    "    print(x.shape)\n",
    "    break"
   ]
  },
  {
   "cell_type": "markdown",
   "metadata": {},
   "source": [
    "# 3. Test Time Predictions for Each Model"
   ]
  },
  {
   "cell_type": "markdown",
   "metadata": {},
   "source": [
    "### unet"
   ]
  },
  {
   "cell_type": "code",
   "execution_count": 63,
   "metadata": {},
   "outputs": [
    {
     "data": {
      "text/plain": [
       "0.007048804312944412"
      ]
     },
     "execution_count": 63,
     "metadata": {},
     "output_type": "execute_result"
    }
   ],
   "source": [
    "models = get_path(\"unet\")\n",
    "\n",
    "ensemble_time = 0\n",
    "for model in models:\n",
    "    start_time = time.time()\n",
    "\n",
    "    output = model.model(x.to(device=model.device))\n",
    "\n",
    "    end_time = time.time()\n",
    "\n",
    "    ensemble_time += end_time - start_time\n",
    "\n",
    "ensemble_time / x.shape[0]"
   ]
  },
  {
   "cell_type": "code",
   "execution_count": 62,
   "metadata": {},
   "outputs": [
    {
     "data": {
      "text/plain": [
       "0.0001483708620071411"
      ]
     },
     "execution_count": 62,
     "metadata": {},
     "output_type": "execute_result"
    }
   ],
   "source": [
    "start_time = time.time()\n",
    "\n",
    "model_1 = models[1]\n",
    "\n",
    "output = model_1.model(x.to(device=model_1.device))\n",
    "\n",
    "end_time = time.time()\n",
    "\n",
    "base_time =  end_time - start_time\n",
    "\n",
    "base_time / x.shape[0]"
   ]
  },
  {
   "cell_type": "markdown",
   "metadata": {},
   "source": [
    "### bisenet"
   ]
  },
  {
   "cell_type": "code",
   "execution_count": 52,
   "metadata": {},
   "outputs": [
    {
     "data": {
      "text/plain": [
       "0.0014978423714637756"
      ]
     },
     "execution_count": 52,
     "metadata": {},
     "output_type": "execute_result"
    }
   ],
   "source": [
    "models = get_path(\"bisenetv2\")\n",
    "\n",
    "ensemble_time = 0\n",
    "for model in models:\n",
    "    start_time = time.time()\n",
    "\n",
    "    output = model.model(x.to(device=model.device))\n",
    "\n",
    "    end_time = time.time()\n",
    "\n",
    "    ensemble_time += end_time - start_time\n",
    "\n",
    "ensemble_time / x.shape[0] # bisenet needs 2 images passed"
   ]
  },
  {
   "cell_type": "code",
   "execution_count": 58,
   "metadata": {},
   "outputs": [
    {
     "data": {
      "text/plain": [
       "0.0003150440752506256"
      ]
     },
     "execution_count": 58,
     "metadata": {},
     "output_type": "execute_result"
    }
   ],
   "source": [
    "start_time = time.time()\n",
    "\n",
    "model_1 = models[0]\n",
    "\n",
    "output = model_1.model(x.to(device=model_1.device))\n",
    "\n",
    "end_time = time.time()\n",
    "\n",
    "base_time =  end_time - start_time\n",
    "\n",
    "base_time / x.shape[0]"
   ]
  },
  {
   "cell_type": "markdown",
   "metadata": {},
   "source": [
    "# mobilesam"
   ]
  },
  {
   "cell_type": "code",
   "execution_count": 11,
   "metadata": {},
   "outputs": [
    {
     "data": {
      "text/plain": [
       "(device(type='cuda', index=2), device(type='cuda', index=1))"
      ]
     },
     "execution_count": 11,
     "metadata": {},
     "output_type": "execute_result"
    }
   ],
   "source": [
    "image_2.device, model.device"
   ]
  },
  {
   "cell_type": "code",
   "execution_count": 47,
   "metadata": {},
   "outputs": [
    {
     "data": {
      "text/plain": [
       "0.045232199132442474"
      ]
     },
     "execution_count": 47,
     "metadata": {},
     "output_type": "execute_result"
    }
   ],
   "source": [
    "models = get_path(\"mobilesam\")\n",
    "\n",
    "ensemble_time = 0\n",
    "for model in models:\n",
    "    \n",
    "    start_time = time.time()\n",
    "\n",
    "    output = model._get_preds(x.to(device=model.device))\n",
    "\n",
    "    end_time = time.time()\n",
    "\n",
    "    ensemble_time += end_time - start_time\n",
    "\n",
    "ensemble_time / x.shape[0]"
   ]
  },
  {
   "cell_type": "code",
   "execution_count": 46,
   "metadata": {},
   "outputs": [
    {
     "data": {
      "text/plain": [
       "0.014472730457782745"
      ]
     },
     "execution_count": 46,
     "metadata": {},
     "output_type": "execute_result"
    }
   ],
   "source": [
    "start_time = time.time()\n",
    "\n",
    "model_1 = models[1].to(image_2.device)\n",
    "\n",
    "output = model_1._get_preds(x.to(device=model_1.device))\n",
    "\n",
    "end_time = time.time()\n",
    "\n",
    "base_time =  end_time - start_time\n",
    "\n",
    "base_time / x.shape[0]"
   ]
  }
 ],
 "metadata": {
  "kernelspec": {
   "display_name": "assemblyhrc",
   "language": "python",
   "name": "python3"
  },
  "language_info": {
   "codemirror_mode": {
    "name": "ipython",
    "version": 3
   },
   "file_extension": ".py",
   "mimetype": "text/x-python",
   "name": "python",
   "nbconvert_exporter": "python",
   "pygments_lexer": "ipython3",
   "version": "3.11.4"
  }
 },
 "nbformat": 4,
 "nbformat_minor": 2
}
