{
 "cells": [
  {
   "cell_type": "code",
   "execution_count": 1,
   "metadata": {},
   "outputs": [
    {
     "data": {
      "text/plain": [
       "'/home/shivansh/repos/assembly_glovebox_dataset'"
      ]
     },
     "execution_count": 1,
     "metadata": {},
     "output_type": "execute_result"
    }
   ],
   "source": [
    "import os\n",
    "\n",
    "os.chdir('../')\n",
    "os.getcwd()"
   ]
  },
  {
   "cell_type": "code",
   "execution_count": 2,
   "metadata": {},
   "outputs": [],
   "source": [
    "import torch\n",
    "import torch.nn.functional as F\n",
    "\n",
    "from training.lightning_trainers.lightning_model import LitModel\n",
    "from training.lightning_trainers.mobilesam_model import MobileSamLitModel\n",
    "from training.lightning_trainers.bisenetv2_model import BiSeNetV2Model\n",
    "\n",
    "from lightning.pytorch import loggers as pl_loggers\n",
    "from training.dataloaders.datamodule import AssemblyDataModule\n",
    "import lightning.pytorch as pl\n",
    "\n",
    "import time\n",
    "import os"
   ]
  },
  {
   "cell_type": "code",
   "execution_count": 3,
   "metadata": {},
   "outputs": [],
   "source": [
    "test_dropout = False\n",
    "\n",
    "\n",
    "def get_path(model_type):\n",
    "    if model_type == \"unet\":\n",
    "        path_1 = \"./lightning_logs/version_73/checkpoints/epoch=1011-step=8096.ckpt\"\n",
    "        model_1 = LitModel.load_from_checkpoint(path_1, map_location=torch.device('cuda:0'), test_dropout=test_dropout)\n",
    "\n",
    "        path_2 = \"./lightning_logs/version_76/checkpoints/epoch=1856-step=29712.ckpt\"\n",
    "        model_2 = LitModel.load_from_checkpoint(path_2, map_location=torch.device('cuda:0'), test_dropout=test_dropout)\n",
    "\n",
    "        path_3 = \"./lightning_logs/version_78/checkpoints/epoch=3223-step=51584.ckpt\"\n",
    "        model_3 = LitModel.load_from_checkpoint(path_3, map_location=torch.device('cuda:0'), test_dropout=test_dropout)\n",
    "\n",
    "    if model_type == \"bisenetv2\":\n",
    "        path_1=\"./lightning_logs/version_79/checkpoints/epoch=3373-step=26992.ckpt\"\n",
    "        model_1 = BiSeNetV2Model.load_from_checkpoint(path_1, map_location=torch.device('cuda:1'), test_dropout=test_dropout)\n",
    "\n",
    "        \n",
    "        path_2=\"./lightning_logs/version_77/checkpoints/epoch=1083-step=8672.ckpt\"\n",
    "        model_2 = BiSeNetV2Model.load_from_checkpoint(path_2, map_location=torch.device('cuda:1'), test_dropout=test_dropout)\n",
    "\n",
    "        path_3=\"./lightning_logs/version_72/checkpoints/epoch=1440-step=11528.ckpt\"\n",
    "        model_3 = BiSeNetV2Model.load_from_checkpoint(path_3, map_location=torch.device('cuda:1'), test_dropout=test_dropout)\n",
    "\n",
    "    if model_type == \"mobilesam\":\n",
    "        \n",
    "        path_1=\"./lightning_logs/version_80/checkpoints/epoch=3027-step=24224.ckpt\"\n",
    "        model_1 = MobileSamLitModel.load_from_checkpoint(path_1, map_location=torch.device('cuda:2'), test_dropout=test_dropout)\n",
    "        \n",
    "        path_2=\"./lightning_logs/version_75/checkpoints/epoch=1849-step=29600.ckpt\"\n",
    "        model_2 = MobileSamLitModel.load_from_checkpoint(path_2, map_location=torch.device('cuda:2'), test_dropout=test_dropout)\n",
    "\n",
    "        path_3=\"./lightning_logs/version_69/checkpoints/epoch=1312-step=10704.ckpt\"\n",
    "        model_3 = MobileSamLitModel.load_from_checkpoint(path_3, map_location=torch.device('cuda:2'), test_dropout=test_dropout)\n",
    "\n",
    "    return [model_1, model_2, model_3]"
   ]
  },
  {
   "cell_type": "markdown",
   "metadata": {},
   "source": [
    "# 1. Warm up the gpu"
   ]
  },
  {
   "cell_type": "markdown",
   "metadata": {},
   "source": [
    "TODO: \n",
    "- Edit back CUDA device change in get_prediction in mobilesam_model.py"
   ]
  },
  {
   "cell_type": "markdown",
   "metadata": {},
   "source": [
    "# 2. Load an image to use from dataset"
   ]
  },
  {
   "cell_type": "code",
   "execution_count": 4,
   "metadata": {},
   "outputs": [],
   "source": [
    "image_0 = torch.randn(1, 3, 256, 256).cuda(device='cuda:0')\n",
    "image_1 = torch.randn(2, 3, 256, 256).cuda(device='cuda:1')\n",
    "image_2 = torch.randn(1, 3, 256, 256).cuda(device='cuda:2')"
   ]
  },
  {
   "cell_type": "code",
   "execution_count": 5,
   "metadata": {},
   "outputs": [],
   "source": [
    "from training.dataloaders.datamodule import AssemblyDataModule\n"
   ]
  },
  {
   "cell_type": "code",
   "execution_count": 6,
   "metadata": {},
   "outputs": [],
   "source": [
    "batch_size = 64\n",
    "\n",
    "data = {\n",
    "    \"fit_query\": {\n",
    "        \"participants\": [\n",
    "            \"Test_Subject_1\",\n",
    "            \"Test_Subject_2\",\n",
    "            \"Test_Subject_3\",\n",
    "            \"Test_Subject_4\",\n",
    "            \"Test_Subject_6\",\n",
    "            \"Test_Subject_7\",\n",
    "            \"Test_Subject_9\",\n",
    "            \"Test_Subject_10\",\n",
    "            \"Test_Subject_11\",\n",
    "            \"Test_Subject_12\"\n",
    "        ],\n",
    "        \"distribution\": [\"id\"],\n",
    "        \"task\": [\"J\", \"TB\"],\n",
    "        \"view\": [\"Top_View\", \"Side_View\"]\n",
    "    },\n",
    "    \"test_query\": {\n",
    "        \"participants\": [\n",
    "            \"Test_Subject_1\",\n",
    "            \"Test_Subject_2\",\n",
    "            \"Test_Subject_3\",\n",
    "            \"Test_Subject_4\",\n",
    "            \"Test_Subject_6\",\n",
    "            \"Test_Subject_7\",\n",
    "            \"Test_Subject_9\",\n",
    "            \"Test_Subject_10\",\n",
    "            \"Test_Subject_11\",\n",
    "            \"Test_Subject_12\"\n",
    "        ],\n",
    "        \"distribution\": [\"id\"],\n",
    "        \"task\": [\"J\", \"TB\"],\n",
    "        \"view\": [\"Top_View\", \"Side_View\"]\n",
    "    },\n",
    "}\n",
    "\n",
    "\n",
    "id_data = data.copy()\n",
    "id_data['test_query']['distribution'] = [\"id\"]\n",
    "id_data['test_query']['participants'] = [\"Test_Subject_2\"]\n",
    "\n",
    "dm = AssemblyDataModule(\n",
    "    test_query = id_data.get(\"test_query\"),\n",
    "    fit_query = id_data.get(\"fit_query\"),\n",
    "    batch_size=batch_size,\n",
    "    img_size=256\n",
    ")\n",
    "\n",
    "\n",
    "ood_data = data.copy()\n",
    "ood_data['test_query']['distribution'] = [\"ood\"]\n",
    "\n",
    "ood_dm = AssemblyDataModule(\n",
    "    test_query = ood_data.get(\"test_query\"),\n",
    "    fit_query = ood_data.get(\"fit_query\"),\n",
    "    batch_size=batch_size,\n",
    "    img_size=256\n",
    ")"
   ]
  },
  {
   "cell_type": "code",
   "execution_count": 7,
   "metadata": {},
   "outputs": [
    {
     "name": "stdout",
     "output_type": "stream",
     "text": [
      "the query is {'participants': ['Test_Subject_2'], 'distribution': ['ood'], 'task': ['J', 'TB'], 'view': ['Top_View', 'Side_View']}\n",
      "the query is {'participants': ['Test_Subject_2'], 'distribution': ['ood'], 'task': ['J', 'TB'], 'view': ['Top_View', 'Side_View']}\n"
     ]
    }
   ],
   "source": [
    "dm.setup(stage=\"test\")\n",
    "\n",
    "ood_dm.setup(stage=\"test\")"
   ]
  },
  {
   "cell_type": "code",
   "execution_count": 8,
   "metadata": {},
   "outputs": [
    {
     "name": "stdout",
     "output_type": "stream",
     "text": [
      "torch.Size([24, 3, 256, 256])\n"
     ]
    }
   ],
   "source": [
    "x = None\n",
    "\n",
    "for batch in dm.test_dataloader():\n",
    "    x, y = batch\n",
    "    print(x.shape)\n",
    "    break"
   ]
  },
  {
   "cell_type": "code",
   "execution_count": 9,
   "metadata": {},
   "outputs": [
    {
     "name": "stdout",
     "output_type": "stream",
     "text": [
      "torch.Size([24, 3, 256, 256])\n"
     ]
    }
   ],
   "source": [
    "ood_x = None\n",
    "\n",
    "for ood_batch in ood_dm.test_dataloader():\n",
    "    ood_x, ood_y = ood_batch\n",
    "    print(ood_x.shape)\n",
    "    break"
   ]
  },
  {
   "cell_type": "markdown",
   "metadata": {},
   "source": [
    "# 3. Test Time Predictions for Each Model"
   ]
  },
  {
   "cell_type": "markdown",
   "metadata": {},
   "source": [
    "### unet"
   ]
  },
  {
   "cell_type": "code",
   "execution_count": 72,
   "metadata": {},
   "outputs": [
    {
     "data": {
      "text/plain": [
       "0.007290085156758626"
      ]
     },
     "execution_count": 72,
     "metadata": {},
     "output_type": "execute_result"
    }
   ],
   "source": [
    "models = get_path(\"unet\")\n",
    "\n",
    "ensemble_time = 0\n",
    "for model in models:\n",
    "    start_time = time.time()\n",
    "\n",
    "    output = model.model(x.to(device=model.device))\n",
    "\n",
    "    end_time = time.time()\n",
    "\n",
    "    ensemble_time += end_time - start_time\n",
    "\n",
    "ensemble_time / x.shape[0]"
   ]
  },
  {
   "cell_type": "code",
   "execution_count": 70,
   "metadata": {},
   "outputs": [
    {
     "data": {
      "text/plain": [
       "0.0003467102845509847"
      ]
     },
     "execution_count": 70,
     "metadata": {},
     "output_type": "execute_result"
    }
   ],
   "source": [
    "start_time = time.time()\n",
    "\n",
    "model_1 = models[1]\n",
    "\n",
    "output = model_1.model(x.to(device=model_1.device))\n",
    "\n",
    "end_time = time.time()\n",
    "\n",
    "base_time =  end_time - start_time\n",
    "\n",
    "base_time / x.shape[0]"
   ]
  },
  {
   "cell_type": "markdown",
   "metadata": {},
   "source": [
    "ood"
   ]
  },
  {
   "cell_type": "code",
   "execution_count": 32,
   "metadata": {},
   "outputs": [
    {
     "data": {
      "text/plain": [
       "0.007293144861857097"
      ]
     },
     "execution_count": 32,
     "metadata": {},
     "output_type": "execute_result"
    }
   ],
   "source": [
    "## testing ood images\n",
    "\n",
    "models = get_path(\"unet\")\n",
    "\n",
    "ensemble_time = 0\n",
    "for model in models:\n",
    "    start_time = time.time()\n",
    "\n",
    "    output = model.model(ood_x.to(device=model.device))\n",
    "\n",
    "    end_time = time.time()\n",
    "\n",
    "    ensemble_time += end_time - start_time\n",
    "\n",
    "ensemble_time / ood_x.shape[0]"
   ]
  },
  {
   "cell_type": "code",
   "execution_count": 34,
   "metadata": {},
   "outputs": [
    {
     "data": {
      "text/plain": [
       "0.00029810269673665363"
      ]
     },
     "execution_count": 34,
     "metadata": {},
     "output_type": "execute_result"
    }
   ],
   "source": [
    "start_time = time.time()\n",
    "\n",
    "model_1 = models[1]\n",
    "\n",
    "output = model_1.model(ood_x.to(device=model_1.device))\n",
    "\n",
    "end_time = time.time()\n",
    "\n",
    "base_time =  end_time - start_time\n",
    "\n",
    "base_time / ood_x.shape[0]"
   ]
  },
  {
   "cell_type": "markdown",
   "metadata": {},
   "source": [
    "### bisenet"
   ]
  },
  {
   "cell_type": "code",
   "execution_count": 36,
   "metadata": {},
   "outputs": [
    {
     "data": {
      "text/plain": [
       "0.001775225003560384"
      ]
     },
     "execution_count": 36,
     "metadata": {},
     "output_type": "execute_result"
    }
   ],
   "source": [
    "models = get_path(\"bisenetv2\")\n",
    "\n",
    "ensemble_time = 0\n",
    "for model in models:\n",
    "    start_time = time.time()\n",
    "\n",
    "    output = model.model(x.to(device=model.device))\n",
    "\n",
    "    end_time = time.time()\n",
    "\n",
    "    ensemble_time += end_time - start_time\n",
    "\n",
    "ensemble_time / x.shape[0] # bisenet needs 2 images passed"
   ]
  },
  {
   "cell_type": "code",
   "execution_count": 39,
   "metadata": {},
   "outputs": [
    {
     "data": {
      "text/plain": [
       "0.0008324285348256429"
      ]
     },
     "execution_count": 39,
     "metadata": {},
     "output_type": "execute_result"
    }
   ],
   "source": [
    "start_time = time.time()\n",
    "\n",
    "model_1 = models[0]\n",
    "\n",
    "output = model_1.model(x.to(device=model_1.device))\n",
    "\n",
    "end_time = time.time()\n",
    "\n",
    "base_time =  end_time - start_time\n",
    "\n",
    "base_time / x.shape[0]"
   ]
  },
  {
   "cell_type": "markdown",
   "metadata": {},
   "source": [
    "ood"
   ]
  },
  {
   "cell_type": "code",
   "execution_count": 63,
   "metadata": {},
   "outputs": [
    {
     "data": {
      "text/plain": [
       "0.0020158588886260986"
      ]
     },
     "execution_count": 63,
     "metadata": {},
     "output_type": "execute_result"
    }
   ],
   "source": [
    "for model in models:\n",
    "    start_time = time.time()\n",
    "\n",
    "    output = model.model(ood_x.to(device=model.device))\n",
    "\n",
    "    end_time = time.time()\n",
    "\n",
    "    ensemble_time += end_time - start_time\n",
    "\n",
    "ensemble_time / ood_x.shape[0]"
   ]
  },
  {
   "cell_type": "code",
   "execution_count": 66,
   "metadata": {},
   "outputs": [
    {
     "data": {
      "text/plain": [
       "0.00044297178586324054"
      ]
     },
     "execution_count": 66,
     "metadata": {},
     "output_type": "execute_result"
    }
   ],
   "source": [
    "models = get_path(\"bisenetv2\")\n",
    "\n",
    "ensemble_time = 0\n",
    "\n",
    "start_time = time.time()\n",
    "\n",
    "model_1 = models[0]\n",
    "\n",
    "output = model_1.model(ood_x.to(device=model_1.device))\n",
    "\n",
    "end_time = time.time()\n",
    "\n",
    "base_time =  end_time - start_time\n",
    "\n",
    "base_time / ood_x.shape[0]"
   ]
  },
  {
   "cell_type": "markdown",
   "metadata": {},
   "source": [
    "# mobilesam"
   ]
  },
  {
   "cell_type": "code",
   "execution_count": 17,
   "metadata": {},
   "outputs": [
    {
     "data": {
      "text/plain": [
       "(device(type='cuda', index=2), device(type='cuda', index=1))"
      ]
     },
     "execution_count": 17,
     "metadata": {},
     "output_type": "execute_result"
    }
   ],
   "source": [
    "image_2.device, model.device"
   ]
  },
  {
   "cell_type": "code",
   "execution_count": 51,
   "metadata": {},
   "outputs": [
    {
     "data": {
      "text/plain": [
       "0.04516427715619405"
      ]
     },
     "execution_count": 51,
     "metadata": {},
     "output_type": "execute_result"
    }
   ],
   "source": [
    "models = get_path(\"mobilesam\")\n",
    "\n",
    "ensemble_time = 0\n",
    "for model in models:\n",
    "    \n",
    "    start_time = time.time()\n",
    "\n",
    "    output = model._get_preds(x.to(device=model.device))\n",
    "\n",
    "    end_time = time.time()\n",
    "\n",
    "    ensemble_time += end_time - start_time\n",
    "\n",
    "ensemble_time / x.shape[0]"
   ]
  },
  {
   "cell_type": "code",
   "execution_count": 50,
   "metadata": {},
   "outputs": [
    {
     "data": {
      "text/plain": [
       "0.014566481113433838"
      ]
     },
     "execution_count": 50,
     "metadata": {},
     "output_type": "execute_result"
    }
   ],
   "source": [
    "start_time = time.time()\n",
    "\n",
    "model_1 = models[1].to(image_2.device)\n",
    "\n",
    "output = model_1._get_preds(x.to(device=model_1.device))\n",
    "\n",
    "end_time = time.time()\n",
    "\n",
    "base_time =  end_time - start_time\n",
    "\n",
    "base_time / x.shape[0]"
   ]
  },
  {
   "cell_type": "markdown",
   "metadata": {},
   "source": [
    "ood"
   ]
  },
  {
   "cell_type": "code",
   "execution_count": 54,
   "metadata": {},
   "outputs": [
    {
     "data": {
      "text/plain": [
       "0.014891356229782104"
      ]
     },
     "execution_count": 54,
     "metadata": {},
     "output_type": "execute_result"
    }
   ],
   "source": [
    "start_time = time.time()\n",
    "\n",
    "model_1 = models[1].to(image_2.device)\n",
    "\n",
    "output = model_1._get_preds(ood_x.to(device=model_1.device))\n",
    "\n",
    "end_time = time.time()\n",
    "\n",
    "base_time =  end_time - start_time\n",
    "\n",
    "base_time / ood_x.shape[0]\n"
   ]
  },
  {
   "cell_type": "code",
   "execution_count": 53,
   "metadata": {},
   "outputs": [
    {
     "data": {
      "text/plain": [
       "0.045158336559931435"
      ]
     },
     "execution_count": 53,
     "metadata": {},
     "output_type": "execute_result"
    }
   ],
   "source": [
    "models = get_path(\"mobilesam\")\n",
    "\n",
    "ensemble_time = 0\n",
    "for model in models:\n",
    "    \n",
    "    start_time = time.time()\n",
    "\n",
    "    output = model._get_preds(ood_x.to(device=model.device))\n",
    "\n",
    "    end_time = time.time()\n",
    "\n",
    "    ensemble_time += end_time - start_time\n",
    "\n",
    "ensemble_time / ood_x.shape[0]"
   ]
  },
  {
   "cell_type": "code",
   "execution_count": null,
   "metadata": {},
   "outputs": [],
   "source": []
  }
 ],
 "metadata": {
  "kernelspec": {
   "display_name": "assemblyhrc",
   "language": "python",
   "name": "python3"
  },
  "language_info": {
   "codemirror_mode": {
    "name": "ipython",
    "version": 3
   },
   "file_extension": ".py",
   "mimetype": "text/x-python",
   "name": "python",
   "nbconvert_exporter": "python",
   "pygments_lexer": "ipython3",
   "version": "3.11.4"
  }
 },
 "nbformat": 4,
 "nbformat_minor": 2
}
